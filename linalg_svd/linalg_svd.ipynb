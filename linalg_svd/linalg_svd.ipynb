{
 "cells": [
  {
   "cell_type": "code",
   "execution_count": 1,
   "metadata": {},
   "outputs": [],
   "source": [
    "import numpy as np\n",
    "import matplotlib.pyplot as plt\n",
    "from sympy import *\n",
    "import scipy.fftpack\n",
    "from scipy import stats\n",
    "import random\n",
    "from scipy.signal import hilbert\n",
    "from scipy import interpolate\n",
    "\n",
    "from mpl_toolkits.mplot3d import Axes3D"
   ]
  },
  {
   "cell_type": "markdown",
   "metadata": {},
   "source": [
    "\n",
    "---\n",
    "# VIDEO: Singular value decomposition\n",
    "---\n"
   ]
  },
  {
   "cell_type": "code",
   "execution_count": null,
   "metadata": {},
   "outputs": [],
   "source": [
    "# the matrix\n",
    "A = [ [3,0,5], [8,1,3] ]\n",
    "\n",
    "# Note differences from MATLAB: S is vector, V is V'\n",
    "U,S,V = np.linalg.svd(A)\n",
    "\n",
    "print(U), print(' ')\n",
    "print(S), print(' ')\n",
    "print(V)"
   ]
  },
  {
   "cell_type": "code",
   "execution_count": null,
   "metadata": {},
   "outputs": [],
   "source": [
    "plt.subplot(141)\n",
    "plt.imshow(A)\n",
    "plt.title('A')\n",
    "plt.axis('off')\n",
    "\n",
    "plt.subplot(142)\n",
    "plt.imshow(U)\n",
    "plt.title('U')\n",
    "plt.axis('off')\n",
    "\n",
    "plt.subplot(143)\n",
    "plt.imshow(np.diag(S))\n",
    "plt.title('$\\Sigma$')\n",
    "plt.axis('off')\n",
    "\n",
    "plt.subplot(144)\n",
    "plt.imshow(V)\n",
    "plt.title('$V^T$')\n",
    "plt.axis('off')\n",
    "\n",
    "plt.show()"
   ]
  },
  {
   "cell_type": "code",
   "execution_count": null,
   "metadata": {},
   "outputs": [],
   "source": []
  },
  {
   "cell_type": "markdown",
   "metadata": {},
   "source": [
    "# VIDEO: Relation between singular values and eigenvalues"
   ]
  },
  {
   "cell_type": "code",
   "execution_count": null,
   "metadata": {},
   "outputs": [],
   "source": [
    "# case 1: eig(A'A) vs. svd(A)\n",
    "\n",
    "A = np.array([ [3,1,0], [1,1,0] ])\n",
    "\n",
    "print( np.sort(np.linalg.eig(A.T@A)[0]) )\n",
    "print( np.sort(np.linalg.svd(A)[1])**2 )"
   ]
  },
  {
   "cell_type": "code",
   "execution_count": null,
   "metadata": {},
   "outputs": [],
   "source": [
    "# case 2: eig(A'A) vs. svd(A'A)\n",
    "\n",
    "print(np.sort(np.linalg.eig(A.T@A)[0]))\n",
    "print(np.sort(np.linalg.svd(A.T@A)[1]))"
   ]
  },
  {
   "cell_type": "code",
   "execution_count": null,
   "metadata": {},
   "outputs": [],
   "source": [
    "# case 3a: eig(A) vs. svd(A), real-valued eigs\n",
    "\n",
    "# need a square matrix for eig\n",
    "A = [ [3,1,0], [1,1,0], [1,1,1]]\n",
    "\n",
    "print(np.sort(np.linalg.eig(A)[0]))\n",
    "print(np.sort(np.linalg.svd(A)[1]))"
   ]
  },
  {
   "cell_type": "code",
   "execution_count": null,
   "metadata": {},
   "outputs": [],
   "source": [
    "# case 3b: eig(A) vs. svd(A), complex eigs\n",
    "\n",
    "# random matrices are likely to give complex eigenvalues\n",
    "A = np.random.randn(3,3)\n",
    "\n",
    "print(np.sort(np.linalg.eig(A)[0]))\n",
    "print(np.sort(np.linalg.svd(A)[1]))"
   ]
  },
  {
   "cell_type": "code",
   "execution_count": null,
   "metadata": {},
   "outputs": [],
   "source": []
  },
  {
   "cell_type": "markdown",
   "metadata": {},
   "source": [
    "\n",
    "---\n",
    "# VIDEO: Spectral theory of matrices\n",
    "---\n"
   ]
  },
  {
   "cell_type": "code",
   "execution_count": null,
   "metadata": {},
   "outputs": [],
   "source": [
    "# matrix sizes\n",
    "m = 40\n",
    "n = 30\n",
    "\n",
    "# define a 2D Gaussian for smoothing\n",
    "k = int( (m+n)/4 )\n",
    "xx = np.linspace(-3,3,k)\n",
    "[X,Y] = np.meshgrid(xx,xx)\n",
    "g2d = np.exp(-(X**2 + Y**2) / (k/8))\n",
    "\n",
    "# matrix\n",
    "A = scipy.signal.convolve2d(np.random.randn(m,n),g2d,'same')\n",
    "\n",
    "plt.imshow(A)\n",
    "plt.show()"
   ]
  },
  {
   "cell_type": "code",
   "execution_count": null,
   "metadata": {},
   "outputs": [],
   "source": [
    "# SVD (remember that V comes out transposed)\n",
    "U,S,V = np.linalg.svd(A)\n",
    "\n",
    "\n",
    "# show the constituent matrices\n",
    "fig = plt.subplots(1,figsize=(10,6))\n",
    "\n",
    "plt.subplot(241)\n",
    "plt.imshow(A)\n",
    "plt.title('A')\n",
    "\n",
    "plt.subplot(242)\n",
    "plt.imshow(U)\n",
    "plt.title('U')\n",
    "\n",
    "plt.subplot(243)\n",
    "plt.imshow(np.diag(S))\n",
    "plt.title('$\\Sigma$')\n",
    "\n",
    "plt.subplot(244)\n",
    "plt.imshow(V)\n",
    "plt.title('V$^T$')\n",
    "\n",
    "plt.subplot(212)\n",
    "plt.plot(S,'ks-')\n",
    "plt.xlabel('Component number')\n",
    "plt.ylabel('$\\sigma$')\n",
    "plt.title('\"Scree plot\" of singular values')\n",
    "\n",
    "plt.show()"
   ]
  },
  {
   "cell_type": "code",
   "execution_count": null,
   "metadata": {
    "scrolled": true
   },
   "outputs": [],
   "source": [
    "rank1mats = np.zeros((5,m,n))\n",
    "\n",
    "for i in range(0,5):\n",
    "    \n",
    "    # create rank1 matrix\n",
    "    rank1mats[i,:,:] = np.outer( U[:,i]*S[i],V[i,:] )\n",
    "    \n",
    "    plt.subplot2grid((2,5),(0,i))\n",
    "    plt.imshow(rank1mats[i,:,:],vmin=-5,vmax=5)\n",
    "    plt.axis('off')\n",
    "    plt.title('C.%d' %(i+1))\n",
    "    \n",
    "    plt.subplot2grid((2,5),(1,i))\n",
    "    imdat = np.sum(rank1mats[:i+1,:,:],axis=0)\n",
    "    plt.imshow(imdat,vmin=-5,vmax=5)\n",
    "    plt.axis('off')\n",
    "    plt.title('Cs 1:%d' %(i+1))\n",
    "\n",
    "plt.show()\n",
    "\n",
    "# then show the original\n",
    "plt.imshow(A,vmin=-5,vmax=5)\n",
    "plt.show()"
   ]
  },
  {
   "cell_type": "code",
   "execution_count": null,
   "metadata": {},
   "outputs": [],
   "source": []
  },
  {
   "cell_type": "markdown",
   "metadata": {},
   "source": [
    "\n",
    "---\n",
    "# VIDEO: SVD for low-rank approximations\n",
    "---\n"
   ]
  },
  {
   "cell_type": "code",
   "execution_count": null,
   "metadata": {},
   "outputs": [],
   "source": [
    "# number of components (singular \"layers\") to keep\n",
    "nComps = 5\n",
    "\n",
    "# reduced matrices\n",
    "Ur = U[:,0:nComps]\n",
    "Sr = S[0:nComps]\n",
    "Vr = V[0:nComps,:]\n",
    "\n",
    "# low-rank apporoximation\n",
    "reconImage = Ur@np.diag(Sr)@Vr\n",
    "\n",
    "# rank (confirm same as nComps)\n",
    "print( 'rank =',np.linalg.matrix_rank(reconImage) )"
   ]
  },
  {
   "cell_type": "code",
   "execution_count": null,
   "metadata": {},
   "outputs": [],
   "source": [
    "# error map and percent difference from original matrix\n",
    "errormap = (reconImage-A)**2\n",
    "\n",
    "# show the results!\n",
    "plt.subplot(131)\n",
    "plt.imshow(A)\n",
    "plt.axis('off')\n",
    "plt.title('Original')\n",
    "\n",
    "plt.subplot(132)\n",
    "plt.imshow(reconImage)\n",
    "plt.axis('off')\n",
    "plt.title('Low-rank')\n",
    "\n",
    "plt.subplot(133)\n",
    "plt.imshow(errormap,vmin=-1,vmax=1)\n",
    "plt.axis('off')\n",
    "plt.title('error')\n",
    "plt.show()\n"
   ]
  },
  {
   "cell_type": "code",
   "execution_count": null,
   "metadata": {},
   "outputs": [],
   "source": []
  },
  {
   "cell_type": "markdown",
   "metadata": {},
   "source": [
    "\n",
    "---\n",
    "# VIDEO: Convert singular values to percent variance\n",
    "---\n"
   ]
  },
  {
   "cell_type": "code",
   "execution_count": 2,
   "metadata": {},
   "outputs": [],
   "source": [
    "# matrix sizes\n",
    "m = 40\n",
    "n = 30\n",
    "\n",
    "# define a 2D Gaussian for smoothing\n",
    "k = int( (m+n)/4 )\n",
    "xx = np.linspace(-3,3,k)\n",
    "[X,Y] = np.meshgrid(xx,xx)\n",
    "g2d = np.exp(-(X**2 + Y**2) / (k/8))\n",
    "\n",
    "# matrix\n",
    "A = scipy.signal.convolve2d(np.random.randn(m,n),g2d,'same')"
   ]
  },
  {
   "cell_type": "code",
   "execution_count": 3,
   "metadata": {},
   "outputs": [
    {
     "data": {
      "image/png": "[encoded data removed]",
      "text/plain": [
       "<Figure size 504x360 with 2 Axes>"
      ]
     },
     "metadata": {
      "needs_background": "light"
     },
     "output_type": "display_data"
    }
   ],
   "source": [
    "Ascaled = A*1\n",
    "\n",
    "# SVD\n",
    "U,s,V = np.linalg.svd(Ascaled)\n",
    "\n",
    "# convert to percent variance\n",
    "spct = 100*s/np.sum(s)\n",
    "\n",
    "# plot the singular values for comparison\n",
    "fig = plt.subplots(1,figsize=(7,5))\n",
    "\n",
    "plt.subplot(211)\n",
    "plt.plot(s,'ks-')\n",
    "plt.xlabel('Component number')\n",
    "plt.ylabel('$\\sigma$')\n",
    "plt.title('Raw singular values')\n",
    "\n",
    "plt.subplot(212)\n",
    "plt.plot(spct,'ks-')\n",
    "plt.xlabel('Component number')\n",
    "plt.ylabel('$\\sigma$ (% of total)')\n",
    "plt.title('Percent-change-normalized singular values')\n",
    "\n",
    "plt.tight_layout()\n",
    "plt.show()"
   ]
  },
  {
   "cell_type": "code",
   "execution_count": null,
   "metadata": {},
   "outputs": [],
   "source": []
  },
  {
   "cell_type": "markdown",
   "metadata": {},
   "source": [
    "\n",
    "---\n",
    "# VIDEO: SVD, matrix inverse, and pseudoinverse\n",
    "---\n"
   ]
  },
  {
   "cell_type": "code",
   "execution_count": null,
   "metadata": {},
   "outputs": [],
   "source": [
    "\n",
    "# the matrix\n",
    "A = [ [1,2,3],\n",
    "      [1,2,4], # hint: change 2->0 for invertible matrix to test\n",
    "      [1,2,5]  ]\n",
    "  \n",
    "# SVD\n",
    "U,S,V = np.linalg.svd(A)\n",
    "\n",
    "# pseudoinvert S\n",
    "nonzeroels = S>10**-14 # find nonzero elements (>rounding errors)\n",
    "S[nonzeroels] = 1/S[nonzeroels] # invert only those elements\n",
    "\n",
    "# now pseudoinvert A\n",
    "Ai = V.T@np.diag(S)@U.T\n",
    "\n",
    "# it's sortof close to I...?\n",
    "print( Ai@A ), print(' ')\n",
    "\n",
    "# compute with pinv function\n",
    "print( np.linalg.pinv(A)@A )\n"
   ]
  },
  {
   "cell_type": "code",
   "execution_count": null,
   "metadata": {},
   "outputs": [],
   "source": [
    "import inspect\n",
    "lines = inspect.getsource(np.linalg.pinv)\n",
    "print(lines)"
   ]
  },
  {
   "cell_type": "code",
   "execution_count": null,
   "metadata": {},
   "outputs": [],
   "source": []
  },
  {
   "cell_type": "markdown",
   "metadata": {},
   "source": [
    "\n",
    "---\n",
    "# VIDEO: Condition number of a matrix\n",
    "---\n"
   ]
  },
  {
   "cell_type": "code",
   "execution_count": null,
   "metadata": {},
   "outputs": [],
   "source": [
    "\n",
    "# matrix sizes\n",
    "m = 40\n",
    "\n",
    "# define a 2D Gaussian for smoothing\n",
    "k = int( (m+n)/4 )\n",
    "xx = np.linspace(-3,3,k)\n",
    "[X,Y] = np.meshgrid(xx,xx)\n",
    "g2d = np.exp(-(X**2 + Y**2) / (k/8))\n",
    "\n",
    "# matrix\n",
    "A = np.random.randn(m,m)\n",
    "A = scipy.signal.convolve2d(A,g2d,'same')\n",
    "\n",
    "\n",
    "\n",
    "# SVD\n",
    "S = np.linalg.svd(A)[1]\n",
    "\n",
    "# compute condition number\n",
    "condnum = S[0]/S[-1]\n",
    "print(S[0],S[-1])\n",
    "\n",
    "# show the matrix\n",
    "plt.subplot(211)\n",
    "plt.imshow(A)\n",
    "plt.axis('off')\n",
    "plt.title('Cond.num: %d' %condnum)\n",
    "\n",
    "plt.subplot(212)\n",
    "plt.plot(S,'ks-')\n",
    "plt.xlabel('Component number')\n",
    "plt.ylabel('$\\sigma$')\n",
    "plt.title('\"Scree plot\" of singular values')\n",
    "\n",
    "plt.show()"
   ]
  },
  {
   "cell_type": "code",
   "execution_count": null,
   "metadata": {},
   "outputs": [],
   "source": [
    "## sphere\n",
    "\n",
    "# the transformation matrix T\n",
    "T = np.eye(3)\n",
    "T[-1,-1] = .5\n",
    "\n",
    "\n",
    "fig = plt.figure()\n",
    "ax = fig.add_subplot(111, projection='3d')\n",
    "\n",
    "# Make data\n",
    "n = 21\n",
    "u = np.linspace(0, 2*np.pi,n)\n",
    "v = np.linspace(0, np.pi,n)\n",
    "x = np.outer(np.cos(u), np.sin(v))\n",
    "y = np.outer(np.sin(u), np.sin(v))\n",
    "z = np.outer(np.ones(np.size(u)), np.cos(v))\n",
    "\n",
    "# put coords in a matrix to be transformed\n",
    "M = np.concatenate( (np.reshape(x,(n*n,1)),np.reshape(y,(n*n,1)),np.reshape(z,(n*n,1))) ,axis=1)\n",
    "\n",
    "# apply the transformation matrix to the coordinates\n",
    "TM = T@M.T\n",
    "\n",
    "# get out the new coordinates\n",
    "xp = np.reshape(TM[0,:],(n,n))\n",
    "yp = np.reshape(TM[1,:],(n,n))\n",
    "zp = np.reshape(TM[2,:],(n,n))\n",
    "\n",
    "# Plot the surface\n",
    "ax.plot_surface(xp,yp,zp, color='b')\n",
    "ax.axis('square')\n",
    "ax.set_xlim3d(-1,1)\n",
    "ax.set_ylim3d(-1,1)\n",
    "ax.set_zlim3d(-1,1)\n",
    "\n",
    "plt.show()"
   ]
  },
  {
   "cell_type": "code",
   "execution_count": null,
   "metadata": {},
   "outputs": [],
   "source": []
  }
 ],
 "metadata": {
  "kernelspec": {
   "display_name": "Python 3",
   "language": "python",
   "name": "python3"
  },
  "language_info": {
   "codemirror_mode": {
    "name": "ipython",
    "version": 3
   },
   "file_extension": ".py",
   "mimetype": "text/x-python",
   "name": "python",
   "nbconvert_exporter": "python",
   "pygments_lexer": "ipython3",
   "version": "3.8.3"
  }
 },
 "nbformat": 4,
 "nbformat_minor": 2
}
