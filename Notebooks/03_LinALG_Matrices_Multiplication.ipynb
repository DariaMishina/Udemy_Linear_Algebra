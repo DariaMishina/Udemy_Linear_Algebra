{
 "cells": [
  {
   "cell_type": "code",
   "execution_count": 1,
   "metadata": {},
   "outputs": [],
   "source": [
    "import numpy as np\n",
    "import matplotlib.pyplot as plt\n",
    "import math"
   ]
  },
  {
   "cell_type": "markdown",
   "metadata": {},
   "source": [
    "\n",
    "---\n",
    "# Standard matrix multiplication, parts 1 & 2\n",
    "---\n"
   ]
  },
  {
   "cell_type": "code",
   "execution_count": 18,
   "metadata": {},
   "outputs": [
    {
     "data": {
      "text/plain": [
       "array([[ 0.00000000e+00,  0.00000000e+00,  0.00000000e+00,\n",
       "         0.00000000e+00],\n",
       "       [ 5.55111512e-17,  0.00000000e+00,  0.00000000e+00,\n",
       "         2.77555756e-17],\n",
       "       [ 0.00000000e+00,  0.00000000e+00,  1.38777878e-17,\n",
       "         1.38777878e-17],\n",
       "       [ 0.00000000e+00,  0.00000000e+00,  0.00000000e+00,\n",
       "        -1.38777878e-17]])"
      ]
     },
     "execution_count": 18,
     "metadata": {},
     "output_type": "execute_result"
    }
   ],
   "source": [
    "# rules for multiplication validity\n",
    "\n",
    "m = 4\n",
    "n = 3\n",
    "\n",
    "# make some matrices\n",
    "A = np.random.randn(m, n)\n",
    "B = np.random.randn(n, m)\n",
    "\n",
    "# build the product matrix layer-wise (for-loop)\n",
    "C1 = np.zeros((m, m))\n",
    "for i in range(n):\n",
    "    C1 += np.outer(A[:, i], B[i, :])\n",
    "\n",
    "# implement matrix multiplication directly\n",
    "C2 = A@B\n",
    "C1-C2"
   ]
  },
  {
   "cell_type": "markdown",
   "metadata": {},
   "source": [
    "\n",
    "---\n",
    "# Order-of-operations on matrices\n",
    "---\n"
   ]
  },
  {
   "cell_type": "code",
   "execution_count": 19,
   "metadata": {},
   "outputs": [
    {
     "data": {
      "text/plain": [
       "array([[-3.55271368e-15,  0.00000000e+00,  1.77635684e-15,\n",
       "        -1.55431223e-15,  0.00000000e+00,  1.77635684e-15,\n",
       "         3.55271368e-15],\n",
       "       [-1.22124533e-15, -1.11022302e-16, -2.22044605e-15,\n",
       "        -1.77635684e-15,  3.55271368e-15, -3.55271368e-15,\n",
       "         0.00000000e+00],\n",
       "       [-3.55271368e-15, -4.44089210e-16,  0.00000000e+00,\n",
       "        -1.77635684e-15,  1.77635684e-15, -3.55271368e-15,\n",
       "        -7.10542736e-15],\n",
       "       [ 3.55271368e-15,  3.55271368e-15,  6.21724894e-15,\n",
       "         2.88657986e-15, -3.55271368e-15,  5.32907052e-15,\n",
       "        -3.55271368e-15],\n",
       "       [-3.55271368e-15,  5.32907052e-15,  3.55271368e-15,\n",
       "         3.55271368e-15,  0.00000000e+00,  1.77635684e-15,\n",
       "        -3.55271368e-15],\n",
       "       [ 0.00000000e+00,  7.10542736e-15,  1.06581410e-14,\n",
       "         0.00000000e+00,  7.10542736e-15,  0.00000000e+00,\n",
       "         1.24344979e-14],\n",
       "       [ 0.00000000e+00, -7.10542736e-15,  7.10542736e-15,\n",
       "         7.10542736e-15,  1.06581410e-14,  0.00000000e+00,\n",
       "         4.44089210e-15]])"
      ]
     },
     "execution_count": 19,
     "metadata": {},
     "output_type": "execute_result"
    }
   ],
   "source": [
    "n = 7\n",
    "L = np.random.randn(n, n)\n",
    "I = np.random.randn(n, n)\n",
    "V = np.random.randn(n, n)\n",
    "E = np.random.randn(n, n)\n",
    "\n",
    "# result of \"forward\" multiplication and then transpose\n",
    "res1 = np.matrix.transpose(L @ I @ V @ E)\n",
    "\n",
    "# result of \"flipped\" multiplication of transposed matrices\n",
    "res2 = E.T @ V.T @ I.T @ L.T\n",
    "\n",
    "# test equality by subtracting (ignore possible computer rounding errors)\n",
    "res1-res2"
   ]
  },
  {
   "cell_type": "markdown",
   "metadata": {},
   "source": [
    "\n",
    "---\n",
    "# Order-of-operations on matrices\n",
    "---\n"
   ]
  },
  {
   "cell_type": "code",
   "execution_count": 25,
   "metadata": {},
   "outputs": [
    {
     "name": "stdout",
     "output_type": "stream",
     "text": [
      "[-1. -3.  0.  5.]\n",
      "[-1. -3.  0.  5.]\n",
      "[-1. -3.  0.  5.]\n",
      "[-1. -3.  0.  5.]\n",
      "[-1. -3.  0.  5.]\n",
      "\n",
      "[ -1   0 -25  -4]\n",
      "[-20  -8  -6 -23]\n",
      "[-20  -8  -6 -23]\n",
      "[ -1   0 -25  -4]\n",
      "[-20  -8  -6 -23]\n"
     ]
    }
   ],
   "source": [
    "# number of elements\n",
    "m = 4\n",
    "\n",
    "# create matrices\n",
    "N = np.random.randint(-10,11,(m,m))\n",
    "S = np.round( N.T*N / m**2 ) # scaled symmetric\n",
    "\n",
    "# and vector\n",
    "w = np.array([-1, 0, 1, 2])\n",
    "\n",
    "# with symmetric matrix\n",
    "print( S@w )     # 1\n",
    "print( S.T@w )   # 2\n",
    "print( w@S )     # 3\n",
    "print( w.T@S.T ) # 4\n",
    "print( w.T@S )   # 5\n",
    "print()\n",
    "\n",
    "\n",
    "# with nonsymmetric matrix\n",
    "print( N@w )     # 1\n",
    "print( N.T@w )   # 2\n",
    "print( w@N )     # 3\n",
    "print( w.T@N.T ) # 4\n",
    "print( w.T@N )   # 5"
   ]
  },
  {
   "cell_type": "code",
   "execution_count": null,
   "metadata": {},
   "outputs": [],
   "source": []
  }
 ],
 "metadata": {
  "kernelspec": {
   "display_name": "Python 3",
   "language": "python",
   "name": "python3"
  },
  "language_info": {
   "codemirror_mode": {
    "name": "ipython",
    "version": 3
   },
   "file_extension": ".py",
   "mimetype": "text/x-python",
   "name": "python",
   "nbconvert_exporter": "python",
   "pygments_lexer": "ipython3",
   "version": "3.8.3"
  }
 },
 "nbformat": 4,
 "nbformat_minor": 4
}
