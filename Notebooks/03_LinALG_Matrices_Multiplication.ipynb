{
 "cells": [
  {
   "cell_type": "code",
   "execution_count": 1,
   "metadata": {},
   "outputs": [],
   "source": [
    "import numpy as np\n",
    "import matplotlib.pyplot as plt\n",
    "import math"
   ]
  },
  {
   "cell_type": "markdown",
   "metadata": {},
   "source": [
    "\n",
    "---\n",
    "# Standard matrix multiplication, parts 1 & 2\n",
    "---\n"
   ]
  },
  {
   "cell_type": "code",
   "execution_count": 18,
   "metadata": {},
   "outputs": [
    {
     "data": {
      "text/plain": [
       "array([[ 0.00000000e+00,  0.00000000e+00,  0.00000000e+00,\n",
       "         0.00000000e+00],\n",
       "       [ 5.55111512e-17,  0.00000000e+00,  0.00000000e+00,\n",
       "         2.77555756e-17],\n",
       "       [ 0.00000000e+00,  0.00000000e+00,  1.38777878e-17,\n",
       "         1.38777878e-17],\n",
       "       [ 0.00000000e+00,  0.00000000e+00,  0.00000000e+00,\n",
       "        -1.38777878e-17]])"
      ]
     },
     "execution_count": 18,
     "metadata": {},
     "output_type": "execute_result"
    }
   ],
   "source": [
    "# rules for multiplication validity\n",
    "\n",
    "m = 4\n",
    "n = 3\n",
    "\n",
    "# make some matrices\n",
    "A = np.random.randn(m, n)\n",
    "B = np.random.randn(n, m)\n",
    "\n",
    "# build the product matrix layer-wise (for-loop)\n",
    "C1 = np.zeros((m, m))\n",
    "for i in range(n):\n",
    "    C1 += np.outer(A[:, i], B[i, :])\n",
    "\n",
    "# implement matrix multiplication directly\n",
    "C2 = A@B\n",
    "C1-C2"
   ]
  },
  {
   "cell_type": "markdown",
   "metadata": {},
   "source": [
    "\n",
    "---\n",
    "# Order-of-operations on matrices\n",
    "---\n"
   ]
  },
  {
   "cell_type": "code",
   "execution_count": 19,
   "metadata": {},
   "outputs": [
    {
     "data": {
      "text/plain": [
       "array([[-3.55271368e-15,  0.00000000e+00,  1.77635684e-15,\n",
       "        -1.55431223e-15,  0.00000000e+00,  1.77635684e-15,\n",
       "         3.55271368e-15],\n",
       "       [-1.22124533e-15, -1.11022302e-16, -2.22044605e-15,\n",
       "        -1.77635684e-15,  3.55271368e-15, -3.55271368e-15,\n",
       "         0.00000000e+00],\n",
       "       [-3.55271368e-15, -4.44089210e-16,  0.00000000e+00,\n",
       "        -1.77635684e-15,  1.77635684e-15, -3.55271368e-15,\n",
       "        -7.10542736e-15],\n",
       "       [ 3.55271368e-15,  3.55271368e-15,  6.21724894e-15,\n",
       "         2.88657986e-15, -3.55271368e-15,  5.32907052e-15,\n",
       "        -3.55271368e-15],\n",
       "       [-3.55271368e-15,  5.32907052e-15,  3.55271368e-15,\n",
       "         3.55271368e-15,  0.00000000e+00,  1.77635684e-15,\n",
       "        -3.55271368e-15],\n",
       "       [ 0.00000000e+00,  7.10542736e-15,  1.06581410e-14,\n",
       "         0.00000000e+00,  7.10542736e-15,  0.00000000e+00,\n",
       "         1.24344979e-14],\n",
       "       [ 0.00000000e+00, -7.10542736e-15,  7.10542736e-15,\n",
       "         7.10542736e-15,  1.06581410e-14,  0.00000000e+00,\n",
       "         4.44089210e-15]])"
      ]
     },
     "execution_count": 19,
     "metadata": {},
     "output_type": "execute_result"
    }
   ],
   "source": [
    "n = 7\n",
    "L = np.random.randn(n, n)\n",
    "I = np.random.randn(n, n)\n",
    "V = np.random.randn(n, n)\n",
    "E = np.random.randn(n, n)\n",
    "\n",
    "# result of \"forward\" multiplication and then transpose\n",
    "res1 = np.matrix.transpose(L @ I @ V @ E)\n",
    "\n",
    "# result of \"flipped\" multiplication of transposed matrices\n",
    "res2 = E.T @ V.T @ I.T @ L.T\n",
    "\n",
    "# test equality by subtracting (ignore possible computer rounding errors)\n",
    "res1-res2"
   ]
  },
  {
   "cell_type": "markdown",
   "metadata": {},
   "source": [
    "\n",
    "---\n",
    "#  Matrix-vector multiplication\n",
    "---\n"
   ]
  },
  {
   "cell_type": "code",
   "execution_count": 25,
   "metadata": {},
   "outputs": [
    {
     "name": "stdout",
     "output_type": "stream",
     "text": [
      "[-1. -3.  0.  5.]\n",
      "[-1. -3.  0.  5.]\n",
      "[-1. -3.  0.  5.]\n",
      "[-1. -3.  0.  5.]\n",
      "[-1. -3.  0.  5.]\n",
      "\n",
      "[ -1   0 -25  -4]\n",
      "[-20  -8  -6 -23]\n",
      "[-20  -8  -6 -23]\n",
      "[ -1   0 -25  -4]\n",
      "[-20  -8  -6 -23]\n"
     ]
    }
   ],
   "source": [
    "# number of elements\n",
    "m = 4\n",
    "\n",
    "# create matrices\n",
    "N = np.random.randint(-10,11,(m,m))\n",
    "S = np.round( N.T*N / m**2 ) # scaled symmetric\n",
    "\n",
    "# and vector\n",
    "w = np.array([-1, 0, 1, 2])\n",
    "\n",
    "# with symmetric matrix\n",
    "print( S@w )     # 1\n",
    "print( S.T@w )   # 2\n",
    "print( w@S )     # 3\n",
    "print( w.T@S.T ) # 4\n",
    "print( w.T@S )   # 5\n",
    "print()\n",
    "\n",
    "\n",
    "# with nonsymmetric matrix\n",
    "print( N@w )     # 1\n",
    "print( N.T@w )   # 2\n",
    "print( w@N )     # 3\n",
    "print( w.T@N.T ) # 4\n",
    "print( w.T@N )   # 5"
   ]
  },
  {
   "cell_type": "markdown",
   "metadata": {},
   "source": [
    "\n",
    "---\n",
    "# 2D transformation matrices\n",
    "---\n"
   ]
  },
  {
   "cell_type": "code",
   "execution_count": 11,
   "metadata": {},
   "outputs": [
    {
     "data": {
      "image/png": "[encoded data removed]",
      "text/plain": [
       "<Figure size 432x288 with 1 Axes>"
      ]
     },
     "metadata": {
      "needs_background": "light"
     },
     "output_type": "display_data"
    }
   ],
   "source": [
    "# 2D input vector\n",
    "\n",
    "v = np.array([3,-2])\n",
    "\n",
    "# 2x2 transformation matrix\n",
    "A = np.array([[1,-1],[2,1]])\n",
    "\n",
    "# output vector is Av (convert v to colums)\n",
    "w = A@np.matrix.transpose(v)\n",
    "\n",
    "#plot them\n",
    "\n",
    "plt.plot([0,v[0]],[0,v[1]],label ='v')\n",
    "plt.plot([0,w[0]],[0,w[1]],label ='Av')\n",
    "\n",
    "\n",
    "plt.grid()\n",
    "plt.axis((-6, 6, -6, 6))\n",
    "plt.legend()\n",
    "plt.title('Rotation + stretching')\n",
    "plt.show()"
   ]
  },
  {
   "cell_type": "code",
   "execution_count": 31,
   "metadata": {},
   "outputs": [
    {
     "data": {
      "image/png": "[encoded data removed]",
      "text/plain": [
       "<Figure size 432x288 with 1 Axes>"
      ]
     },
     "metadata": {
      "needs_background": "light"
     },
     "output_type": "display_data"
    }
   ],
   "source": [
    "## pure rotation\n",
    "\n",
    "# 2D input vector\n",
    "v = np.array([ 3, -2 ])\n",
    "\n",
    "# 2x2 rotation matrix\n",
    "th = np.pi/50\n",
    "A = np.array([ [math.cos(th),-math.sin(th)], [math.sin(th),math.cos(th)] ])\n",
    "\n",
    "# output vector is Av (convert v to column)\n",
    "w = A@np.matrix.transpose(v)\n",
    "\n",
    "\n",
    "# plot them\n",
    "plt.plot([0,v[0]],[0,v[1]],label='v')\n",
    "plt.plot([0,w[0]],[0,w[1]],label='Av')\n",
    "\n",
    "plt.grid()\n",
    "plt.axis((-4, 4, -4, 4))\n",
    "plt.legend()\n",
    "plt.title('Pure rotation')\n",
    "plt.show()"
   ]
  },
  {
   "cell_type": "markdown",
   "metadata": {},
   "source": [
    "The relationship between theta and magnitude of resulting vector in inpure rotation"
   ]
  },
  {
   "cell_type": "code",
   "execution_count": 37,
   "metadata": {},
   "outputs": [
    {
     "data": {
      "image/png": "[encoded data removed]",
      "text/plain": [
       "<Figure size 432x288 with 1 Axes>"
      ]
     },
     "metadata": {
      "needs_background": "light"
     },
     "output_type": "display_data"
    }
   ],
   "source": [
    "v = np.array([ 3, -2 ])\n",
    "thetas = np.linspace(0,2*np.pi,100)\n",
    "\n",
    "vecmags = np.zeros((len(thetas),2))\n",
    "for i in range(len(thetas)):\n",
    "    th = thetas[i]\n",
    "    A1 = np.array([ [2*math.cos(th),-math.sin(th)], [math.sin(th),math.cos(th)] ])\n",
    "    A2 = np.array([ [math.cos(th),-math.sin(th)], [math.sin(th),math.cos(th)] ])\n",
    "    \n",
    "    #compute vectors magnitude\n",
    "    vecmags[i,0] = np.linalg.norm(A1@v.T)\n",
    "    vecmags[i,1] = np.linalg.norm(A2@v.T)\n",
    "\n",
    "plt.plot(thetas,vecmags, 'o-')\n",
    "plt.xlabel('Rotation angle (rad.)')\n",
    "plt.ylabel('Av magnitude')\n",
    "plt.legend(['impure rotation','pure rotation'])\n",
    "plt.show()"
   ]
  },
  {
   "cell_type": "code",
   "execution_count": 62,
   "metadata": {},
   "outputs": [
    {
     "name": "stdout",
     "output_type": "stream",
     "text": [
      "(100, 2)\n"
     ]
    },
    {
     "data": {
      "image/png": "[encoded data removed]",
      "text/plain": [
       "<Figure size 432x288 with 1 Axes>"
      ]
     },
     "metadata": {
      "needs_background": "light"
     },
     "output_type": "display_data"
    }
   ],
   "source": [
    "# generate XY coordinates for a circle\n",
    "\n",
    "x = np.linspace(-np.pi, np.pi, 100)\n",
    "xy = np.vstack((np.cos(x), np.sin(x))).T\n",
    "print(np.shape(xy))\n",
    "\n",
    "# plot the circle\n",
    "plt.plot(xy[:, 0], xy[:, 1], 'o')\n",
    "\n",
    "# create 2x2 matrix\n",
    "T = np.array([[-1, -2], [-2, -1]])\n",
    "\n",
    "# multiply matrix by coords\n",
    "newxy = xy@T\n",
    "\n",
    "# plot the new cords\n",
    "\n",
    "plt.plot(newxy[:, 0], newxy[:, 1], 'o')\n",
    "plt.axis('square')\n",
    "plt.show()"
   ]
  },
  {
   "cell_type": "markdown",
   "metadata": {},
   "source": [
    "\n",
    "---\n",
    "# Additive and multiplicative matrix identities\n",
    "---\n"
   ]
  },
  {
   "cell_type": "code",
   "execution_count": 64,
   "metadata": {},
   "outputs": [
    {
     "name": "stdout",
     "output_type": "stream",
     "text": [
      "True\n",
      "True\n",
      "False\n",
      "False\n",
      "True\n"
     ]
    }
   ],
   "source": [
    "# size of matrices\n",
    "n = 4\n",
    "\n",
    "# create the matrices\n",
    "A = np.round( 10*np.random.randn(n,n) )\n",
    "I = np.eye(n)\n",
    "Z = np.zeros((n,n))\n",
    "\n",
    "# test both identities\n",
    "print(np.array_equal( A@I , A   )) # true\n",
    "print(np.array_equal( A   , A@I )) # True\n",
    "print(np.array_equal( A   , A+I )) # False\n",
    "\n",
    "print(np.array_equal( A   , A+I )) #Falce\n",
    "print(np.array_equal( A+Z , A@I )) #True"
   ]
  },
  {
   "cell_type": "markdown",
   "metadata": {},
   "source": [
    "\n",
    "---\n",
    "# Additive and multiplicative symmetric matrices\n",
    "---\n"
   ]
  },
  {
   "cell_type": "code",
   "execution_count": 70,
   "metadata": {},
   "outputs": [
    {
     "name": "stdout",
     "output_type": "stream",
     "text": [
      "[[0. 0. 0. 0. 0.]\n",
      " [0. 0. 0. 0. 0.]\n",
      " [0. 0. 0. 0. 0.]\n",
      " [0. 0. 0. 0. 0.]\n",
      " [0. 0. 0. 0. 0.]]\n"
     ]
    }
   ],
   "source": [
    "## the additive method\n",
    "\n",
    "# specify sizes\n",
    "m = 5\n",
    "n = 5\n",
    "\n",
    "# create matrices\n",
    "A = np.random.randn(m,n)\n",
    "S = ( A + A.T )/2\n",
    "\n",
    "# A symmetric matrix minus its transpose should be all zeros\n",
    "print( S-S.T )"
   ]
  },
  {
   "cell_type": "code",
   "execution_count": 71,
   "metadata": {},
   "outputs": [
    {
     "name": "stdout",
     "output_type": "stream",
     "text": [
      "(3, 3)\n",
      "(5, 5)\n",
      "[[0. 0. 0.]\n",
      " [0. 0. 0.]\n",
      " [0. 0. 0.]]\n",
      "[[0. 0. 0. 0. 0.]\n",
      " [0. 0. 0. 0. 0.]\n",
      " [0. 0. 0. 0. 0.]\n",
      " [0. 0. 0. 0. 0.]\n",
      " [0. 0. 0. 0. 0.]]\n"
     ]
    }
   ],
   "source": [
    "## the multiplicative method\n",
    "\n",
    "# specify sizes\n",
    "m = 5\n",
    "n = 3\n",
    "\n",
    "# create matrices\n",
    "A   = np.random.randn(m,n)\n",
    "AtA = A.T@A\n",
    "AAt = A@A.T\n",
    "\n",
    "# first, show that they are square\n",
    "print( AtA.shape )\n",
    "print( AAt.shape )\n",
    "\n",
    "\n",
    "# next, show that they are symmetric\n",
    "print( AtA - AtA.T )\n",
    "print( AAt - AAt.T )\n",
    "\n"
   ]
  },
  {
   "cell_type": "markdown",
   "metadata": {},
   "source": [
    "\n",
    "---\n",
    "# Element-wise (Hadamard) multiplication\n",
    "---\n"
   ]
  },
  {
   "cell_type": "code",
   "execution_count": 72,
   "metadata": {},
   "outputs": [
    {
     "name": "stdout",
     "output_type": "stream",
     "text": [
      "[[ 0.95808781 -0.68266056]\n",
      " [ 1.16958632 -0.18224462]\n",
      " [ 0.58125872 -0.52755157]\n",
      " [ 0.04133123  1.4878336 ]\n",
      " [ 0.11072039 -0.52747451]\n",
      " [ 3.27931513  0.01954667]\n",
      " [ 2.55801395 -0.04514845]\n",
      " [-0.09506769 -1.6962589 ]\n",
      " [-1.28745378  3.29564055]\n",
      " [-3.23422687  0.01221322]\n",
      " [ 0.37122471  0.59530654]\n",
      " [ 1.28599462 -0.08933205]\n",
      " [-0.16884668 -0.60110499]]\n",
      " \n",
      "[[ 0.95808781 -0.68266056]\n",
      " [ 1.16958632 -0.18224462]\n",
      " [ 0.58125872 -0.52755157]\n",
      " [ 0.04133123  1.4878336 ]\n",
      " [ 0.11072039 -0.52747451]\n",
      " [ 3.27931513  0.01954667]\n",
      " [ 2.55801395 -0.04514845]\n",
      " [-0.09506769 -1.6962589 ]\n",
      " [-1.28745378  3.29564055]\n",
      " [-3.23422687  0.01221322]\n",
      " [ 0.37122471  0.59530654]\n",
      " [ 1.28599462 -0.08933205]\n",
      " [-0.16884668 -0.60110499]]\n",
      " \n",
      "[[0. 0.]\n",
      " [0. 0.]\n",
      " [0. 0.]\n",
      " [0. 0.]\n",
      " [0. 0.]\n",
      " [0. 0.]\n",
      " [0. 0.]\n",
      " [0. 0.]\n",
      " [0. 0.]\n",
      " [0. 0.]\n",
      " [0. 0.]\n",
      " [0. 0.]\n",
      " [0. 0.]]\n"
     ]
    }
   ],
   "source": [
    "# any matrix sizes\n",
    "m = 13\n",
    "n =  2\n",
    "\n",
    "# ...but the two matrices must be the same size\n",
    "A = np.random.randn(m,n)\n",
    "B = np.random.randn(m,n)\n",
    "\n",
    "# note the different syntax compared to @ for matrix multiplication\n",
    "C1 = np.multiply( A,B )\n",
    "C2 = A*B\n",
    "\n",
    "print(C1), print(' ')\n",
    "print(C2), print(' ')\n",
    "\n",
    "print(C1-C2)"
   ]
  },
  {
   "cell_type": "markdown",
   "metadata": {},
   "source": [
    "**The question need to be explored**"
   ]
  },
  {
   "cell_type": "markdown",
   "metadata": {},
   "source": [
    "What happens when we combine two sym.matrixes?"
   ]
  },
  {
   "cell_type": "code",
   "execution_count": 76,
   "metadata": {},
   "outputs": [
    {
     "name": "stdout",
     "output_type": "stream",
     "text": [
      "[[0. 0. 0. 0.]\n",
      " [0. 0. 0. 0.]\n",
      " [0. 0. 0. 0.]\n",
      " [0. 0. 0. 0.]]\n",
      "[[  0.          -1.62651326   7.62249995  -0.50694241]\n",
      " [  1.62651326   0.          -2.63575705   1.88688493]\n",
      " [ -7.62249995   2.63575705   0.         -12.23761897]\n",
      " [  0.50694241  -1.88688493  12.23761897   0.        ]]\n",
      "[[0. 0. 0. 0.]\n",
      " [0. 0. 0. 0.]\n",
      " [0. 0. 0. 0.]\n",
      " [0. 0. 0. 0.]]\n"
     ]
    }
   ],
   "source": [
    "# Create two sym. matrices.\n",
    "m=4\n",
    "n=5\n",
    "A = np.random.randn(m,n)\n",
    "B = np.random.randn(m,n)\n",
    "\n",
    "Asym = A@A.T\n",
    "Bsym = B@B.T\n",
    "\n",
    "# compute sum, multiplication, Hadmard mult of matrices\n",
    "\n",
    "#Sum\n",
    "\n",
    "Csum = Asym+Bsym\n",
    "Cdot = Asym@Bsym\n",
    "Chad = Asym*Bsym\n",
    "\n",
    "# Determine whether the resulting is still symetric\n",
    "print(Csum-Csum.T)\n",
    "print(Cdot-Cdot.T)\n",
    "print(Chad-Chad.T)"
   ]
  },
  {
   "cell_type": "markdown",
   "metadata": {},
   "source": [
    "\n",
    "---\n",
    "# Multiplication of two symmetric matrices\n",
    "---\n"
   ]
  },
  {
   "cell_type": "code",
   "execution_count": 3,
   "metadata": {},
   "outputs": [
    {
     "name": "stdout",
     "output_type": "stream",
     "text": [
      "Matrix([[0, 0, 0, 0], [0, 0, 0, 0], [0, 0, 0, 0], [0, 0, 0, 0]])\n",
      "Matrix([[0, 0, 0, 0], [0, 0, 0, 0], [0, 0, 0, 0], [0, 0, 0, 0]])\n",
      "a\n",
      "a\n",
      "a\n",
      "a\n",
      "l\n",
      "l\n",
      "l\n",
      "l\n"
     ]
    }
   ],
   "source": [
    "# using the sympy library\n",
    "from sympy import *\n",
    "\n",
    "a,b,c,d,e,f,g,h,k,l,m,n,o,p,q,r,s,t,u = symbols('a b c d e f g h k l m n o p q r s t u', real=True)\n",
    "\n",
    "# symmetric and constant-diagonal matrices\n",
    "A = Matrix([ [a,b,c,d],\n",
    "             [b,a,e,f],\n",
    "             [c,e,a,h],\n",
    "             [d,f,h,a]   ])\n",
    "\n",
    "B = Matrix([ [l,m,n,o],\n",
    "             [m,l,q,r],\n",
    "             [n,q,l,t],\n",
    "             [o,r,t,l]   ])\n",
    "\n",
    "# confirmation that A and B are symmetric\n",
    "print( A - A.transpose() )\n",
    "print( B - B.transpose() )\n",
    "\n",
    "# ... and constant diagonal\n",
    "for i in range(0,np.size(A,0)):\n",
    "    print( A[i,i] )\n",
    "for i in range(0,np.size(B,0)):\n",
    "    print( B[i,i] )\n"
   ]
  },
  {
   "cell_type": "code",
   "execution_count": 7,
   "metadata": {},
   "outputs": [
    {
     "data": {
      "text/latex": [
       "$\\displaystyle \\left[\\begin{matrix}0 & c q - e n & b q - e m\\\\- c q + e n & 0 & b n - c m\\\\- b q + e m & - b n + c m & 0\\end{matrix}\\right]$"
      ],
      "text/plain": [
       "⎡    0       c⋅q - e⋅n   b⋅q - e⋅m⎤\n",
       "⎢                                 ⎥\n",
       "⎢-c⋅q + e⋅n      0       b⋅n - c⋅m⎥\n",
       "⎢                                 ⎥\n",
       "⎣-b⋅q + e⋅m  -b⋅n + c⋅m      0    ⎦"
      ]
     },
     "execution_count": 7,
     "metadata": {},
     "output_type": "execute_result"
    }
   ],
   "source": [
    "# nice printing in sympy\n",
    "init_printing() # comes along with sympy\n",
    "\n",
    "# but AB neq (AB)'\n",
    "A@B - (A@B).T # we see it is not a sym.M\n",
    "\n",
    "# maybe for a submatrix?\n",
    "n = 3\n",
    "A1 = A[ 0:n,0:n ]\n",
    "B1 = B[ 0:n,0:n ]\n",
    "\n",
    "A1@B1 - (A1@B1).T"
   ]
  },
  {
   "cell_type": "code",
   "execution_count": 15,
   "metadata": {},
   "outputs": [
    {
     "name": "stdout",
     "output_type": "stream",
     "text": [
      "[[ 0.26197642  1.82706263  0.52726762  1.79764522]\n",
      " [-1.2563605  -2.94711858  2.6939761  -1.39320948]\n",
      " [ 3.50643535  0.06353073 -1.2192463  -0.36613517]\n",
      " [-2.54752374 -2.79173604  5.01239256  2.70035564]]\n",
      "\n",
      "[[1.61483755 1.78871009 3.42478253 0.59162931]\n",
      " [2.41059757 0.10665897 5.17557475 0.15817367]\n",
      " [0.19612932 0.27046647 0.13208439 0.96926329]\n",
      " [4.0253406  0.26793331 0.43775387 0.29989542]]\n",
      "[[1.03444851e+00 0.00000000e+00 0.00000000e+00 0.00000000e+00]\n",
      " [0.00000000e+00 2.03478541e+00 0.00000000e+00 0.00000000e+00]\n",
      " [0.00000000e+00 0.00000000e+00 1.58939569e-03 0.00000000e+00]\n",
      " [0.00000000e+00 0.00000000e+00 0.00000000e+00 6.03977689e-02]]\n",
      "\n",
      "[[1.03444851e+00 0.00000000e+00 0.00000000e+00 0.00000000e+00]\n",
      " [0.00000000e+00 2.03478541e+00 0.00000000e+00 0.00000000e+00]\n",
      " [0.00000000e+00 0.00000000e+00 1.58939569e-03 0.00000000e+00]\n",
      " [0.00000000e+00 0.00000000e+00 0.00000000e+00 6.03977689e-02]]\n"
     ]
    }
   ],
   "source": [
    "# create two sqaure matrices: 'full' and diagonal\n",
    "A = np.random.randn(4,4)\n",
    "D = np.diag(np.random.randn(4))\n",
    "\n",
    "# multiply each matrix by itsel: standard and hadamard\n",
    "\n",
    "print(A@A)\n",
    "print()\n",
    "print(A*A)\n",
    "\n",
    "print(D@D)\n",
    "print()\n",
    "print(D*D)\n"
   ]
  },
  {
   "cell_type": "markdown",
   "metadata": {},
   "source": [
    "\n",
    "\n",
    "---\n",
    "# Frobenius dot-product\n",
    "---\n"
   ]
  },
  {
   "cell_type": "code",
   "execution_count": 26,
   "metadata": {},
   "outputs": [
    {
     "name": "stdout",
     "output_type": "stream",
     "text": [
      "-3.027385673159049\n",
      "-3.0273856731590496\n",
      "6.780691111580255\n",
      "6.780691111580255\n"
     ]
    }
   ],
   "source": [
    "# any matrix sizes\n",
    "m = 9\n",
    "n = 4\n",
    "\n",
    "# but the two matrices must be the same size\n",
    "A = np.random.randn(m,n)\n",
    "B = np.random.randn(m,n)\n",
    "\n",
    "# method 1 - Vectorize vector, then vector dot product\n",
    "\n",
    "Av = np.reshape(A,m*n, order = 'F') # order ='F' reshapes by columns intead of by rows\n",
    "Bv = np.reshape(B,m*n, order = 'F')\n",
    "#frob_dp = np.dot(Av,Bv)\n",
    "frob_dp = Av@Bv\n",
    "\n",
    "# method 2 - Trace method\n",
    "frob_dp2 = np.trace(A.T@B)\n",
    "\n",
    "print(frob_dp)\n",
    "print(frob_dp2)\n",
    "\n",
    "\n",
    "# matrix norm\n",
    "Anorm  = np.linalg.norm(A,'fro')\n",
    "Anorm2 = np.sqrt( np.trace( A.T@A ) )\n",
    "print(Anorm)\n",
    "print(Anorm2)"
   ]
  },
  {
   "cell_type": "markdown",
   "metadata": {},
   "source": [
    "\n",
    "---\n",
    "# Matrix norms\n",
    "---\n"
   ]
  },
  {
   "cell_type": "code",
   "execution_count": 33,
   "metadata": {},
   "outputs": [
    {
     "name": "stdout",
     "output_type": "stream",
     "text": [
      "16.431676725154983 16.431676725154986 16.392007827749776\n"
     ]
    }
   ],
   "source": [
    "# Create a matrix\n",
    "A = np.array([ [1,2,3], [4,5,6], [7,7,9] ])\n",
    "\n",
    "# optional orthogonal matrix to show that 2-norm is 1\n",
    "#Q,R = np.linalg.qr(np.random.randn(5,5))\n",
    "#print(Q)\n",
    "#print(R)\n",
    "\n",
    "# forbenius norm\n",
    "normFrob = np.linalg.norm(A,'fro')\n",
    "\n",
    "# induced 2 norm\n",
    "normInd2 = np.linalg.norm(A,2)\n",
    "#Note: compute as below:\n",
    "lamb = np.sqrt( np.max(np.linalg.eig(A.T@A)[0]) )\n",
    "\n",
    "# schatten p-norm\n",
    "p = 2\n",
    "s = np.linalg.svd(A)[1] # get singular values\n",
    "normSchat = np.sum(s**p)**(1/p)\n",
    "\n",
    "\n",
    "# % show all norms for comparison\n",
    "print(normFrob,normSchat,normInd2)\n"
   ]
  },
  {
   "cell_type": "code",
   "execution_count": null,
   "metadata": {},
   "outputs": [],
   "source": []
  }
 ],
 "metadata": {
  "kernelspec": {
   "display_name": "Python 3",
   "language": "python",
   "name": "python3"
  },
  "language_info": {
   "codemirror_mode": {
    "name": "ipython",
    "version": 3
   },
   "file_extension": ".py",
   "mimetype": "text/x-python",
   "name": "python",
   "nbconvert_exporter": "python",
   "pygments_lexer": "ipython3",
   "version": "3.8.3"
  }
 },
 "nbformat": 4,
 "nbformat_minor": 4
}
