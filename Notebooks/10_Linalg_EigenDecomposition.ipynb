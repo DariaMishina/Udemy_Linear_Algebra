{
 "cells": [
  {
   "cell_type": "code",
   "execution_count": 22,
   "metadata": {},
   "outputs": [],
   "source": [
    "import numpy as np\n",
    "import matplotlib.pyplot as plt\n",
    "from sympy import *\n",
    "from mpl_toolkits.mplot3d import Axes3D\n",
    "import scipy.linalg # kindof annoying, but numpy doesn't do GED"
   ]
  },
  {
   "cell_type": "markdown",
   "metadata": {},
   "source": [
    "\n",
    "---\n",
    "# Finding eigenvalues\n",
    "---\n"
   ]
  },
  {
   "cell_type": "code",
   "execution_count": 11,
   "metadata": {},
   "outputs": [
    {
     "name": "stdout",
     "output_type": "stream",
     "text": [
      "[-1.  6.]\n",
      "(array([-1.,  6.]), array([[-0.92847669, -0.70710678],\n",
      "       [ 0.37139068, -0.70710678]]))\n"
     ]
    },
    {
     "data": {
      "image/png": "[encoded data removed]",
      "text/plain": [
       "<Figure size 432x288 with 1 Axes>"
      ]
     },
     "metadata": {
      "needs_background": "light"
     },
     "output_type": "display_data"
    }
   ],
   "source": [
    "#matrix\n",
    "A = [ [1,5], [2,4] ]\n",
    "\n",
    "# extract the eigenvalues\n",
    "eigvals = np.linalg.eig(A)\n",
    "\n",
    "# note that the eigenvalues are in the first element of eigvals:\n",
    "print(eigvals[0])\n",
    "print(eigvals)\n",
    "\n",
    "\n",
    "# specify two vectors\n",
    "v1 = np.array([ 1,1 ])    # is an eigenvector!\n",
    "v2 = np.random.randn(2,1) # unlikely to be an eigenvector\n",
    "v2 = v2/np.linalg.norm(v2)# unit length for convenience\n",
    "\n",
    "# compute Av\n",
    "Av1 = A@v1\n",
    "Av2 = A@v2\n",
    "\n",
    "\n",
    "# plot the vectors and Av\n",
    "plt.plot([0,v1[0]] ,[0,v1[1]],'r')\n",
    "plt.plot([0,Av1[0]],[0,Av1[1]],'r--')\n",
    "plt.plot([0,v2[0]] ,[0,v2[1]],'k')\n",
    "plt.plot([0,Av2[0]],[0,Av2[1]],'k--')\n",
    "\n",
    "plt.axis([-8,8,-8,8])\n",
    "plt.show()"
   ]
  },
  {
   "cell_type": "code",
   "execution_count": 7,
   "metadata": {},
   "outputs": [
    {
     "name": "stdout",
     "output_type": "stream",
     "text": [
      "[-3. -1.  3.]\n"
     ]
    }
   ],
   "source": [
    "# confirm eigenvalues for a 3x3 matrix\n",
    "\n",
    "# specify matrix\n",
    "A = [ [-2,  2, -3 ],\n",
    "      [-4,  1, -6 ],\n",
    "      [-1, -2,  0 ]  ]\n",
    "\n",
    "# get eigenvalues\n",
    "evals = np.linalg.eig(A)\n",
    "print(evals[0])\n"
   ]
  },
  {
   "cell_type": "code",
   "execution_count": 2,
   "metadata": {},
   "outputs": [
    {
     "name": "stdout",
     "output_type": "stream",
     "text": [
      "[[ 223    0]\n",
      " [   0 1233]]\n",
      "\n",
      "[ 223. 1233.]\n",
      "\n"
     ]
    }
   ],
   "source": [
    "# Discover the properties of eigenval\n",
    "\n",
    "# generate 2x2 diag matrix, compute eigenvals\n",
    "A = np.diag([223,1233])\n",
    "print(A)\n",
    "print('')\n",
    "print(np.linalg.eig(A)[0]) # egen values\n",
    "print('')\n",
    "\n",
    "# So we see that eigen vals are the same as diagonal elements"
   ]
  },
  {
   "cell_type": "code",
   "execution_count": 3,
   "metadata": {},
   "outputs": [
    {
     "name": "stdout",
     "output_type": "stream",
     "text": [
      "[[ 3  0  0  0  0  0  0  0  0  0  0  0  0  0  0]\n",
      " [ 0  4  0  0  0  0  0  0  0  0  0  0  0  0  0]\n",
      " [ 0  0  5  0  0  0  0  0  0  0  0  0  0  0  0]\n",
      " [ 0  0  0  6  0  0  0  0  0  0  0  0  0  0  0]\n",
      " [ 0  0  0  0  7  0  0  0  0  0  0  0  0  0  0]\n",
      " [ 0  0  0  0  0  8  0  0  0  0  0  0  0  0  0]\n",
      " [ 0  0  0  0  0  0  9  0  0  0  0  0  0  0  0]\n",
      " [ 0  0  0  0  0  0  0 10  0  0  0  0  0  0  0]\n",
      " [ 0  0  0  0  0  0  0  0 11  0  0  0  0  0  0]\n",
      " [ 0  0  0  0  0  0  0  0  0 12  0  0  0  0  0]\n",
      " [ 0  0  0  0  0  0  0  0  0  0 13  0  0  0  0]\n",
      " [ 0  0  0  0  0  0  0  0  0  0  0 14  0  0  0]\n",
      " [ 0  0  0  0  0  0  0  0  0  0  0  0 15  0  0]\n",
      " [ 0  0  0  0  0  0  0  0  0  0  0  0  0 16  0]\n",
      " [ 0  0  0  0  0  0  0  0  0  0  0  0  0  0 17]]\n",
      "\n",
      "[ 3.  4.  5.  6.  7.  8.  9. 10. 11. 12. 13. 14. 15. 16. 17.]\n",
      "\n"
     ]
    }
   ],
   "source": [
    "# Expand this to larger matrix which is diagonal\n",
    "A = np.diag(np.arange(3,18))\n",
    "print(A)\n",
    "print('')\n",
    "print(np.linalg.eig(A)[0]) # egen values\n",
    "print('')\n",
    "\n",
    "# Yep. It works for all sizes of matrix"
   ]
  },
  {
   "cell_type": "code",
   "execution_count": 4,
   "metadata": {},
   "outputs": [
    {
     "name": "stdout",
     "output_type": "stream",
     "text": [
      "[[ 0.49249952  0.86149685 -0.56834805  0.52743934]\n",
      " [ 0.         -1.53159706 -0.94405227 -2.20325083]\n",
      " [ 0.          0.         -0.24677217  2.04204885]\n",
      " [ 0.          0.          0.         -1.2166534 ]]\n",
      "\n",
      "[ 0.49249952 -1.53159706 -0.24677217 -1.2166534 ]\n",
      "\n"
     ]
    }
   ],
   "source": [
    "# Create triangular matrix\n",
    "A  = np.triu(np.random.randn(4,4))\n",
    "print(A)\n",
    "print('')\n",
    "print(np.linalg.eig(A)[0]) # egen values\n",
    "print('')"
   ]
  },
  {
   "cell_type": "code",
   "execution_count": 5,
   "metadata": {},
   "outputs": [
    {
     "name": "stdout",
     "output_type": "stream",
     "text": [
      "[[-0.91661127  0.          0.          0.        ]\n",
      " [ 0.97080782  0.20754883  0.          0.        ]\n",
      " [-0.56102827 -2.27253276  1.22279651  0.        ]\n",
      " [-0.32878479 -1.10501877  0.10678311 -0.02828451]]\n",
      "\n",
      "[-0.02828451  1.22279651  0.20754883 -0.91661127]\n",
      "\n"
     ]
    }
   ],
   "source": [
    "# Create triangular matrix\n",
    "A  = np.tril(np.random.randn(4,4))\n",
    "print(A)\n",
    "print('')\n",
    "print(np.linalg.eig(A)[0]) # egen values\n",
    "print('')"
   ]
  },
  {
   "cell_type": "markdown",
   "metadata": {},
   "source": [
    "\n",
    "---\n",
    "# VIDEO: Finding eigenvectors\n",
    "---\n"
   ]
  },
  {
   "cell_type": "code",
   "execution_count": 6,
   "metadata": {},
   "outputs": [
    {
     "name": "stdout",
     "output_type": "stream",
     "text": [
      "[ 3. -1.]\n",
      " \n",
      "[[ 0.70710678 -0.70710678]\n",
      " [ 0.70710678  0.70710678]]\n"
     ]
    }
   ],
   "source": [
    "# matrix\n",
    "A = [ [1,2], [2,1] ]\n",
    "\n",
    "# eigenvectors (compare with code above)\n",
    "# note also the differences with MATLAB: different order, evals in vector\n",
    "evals,evecs = np.linalg.eig(A)\n",
    "print(evals), print(' ')\n",
    "print(evecs)"
   ]
  },
  {
   "cell_type": "code",
   "execution_count": 7,
   "metadata": {},
   "outputs": [
    {
     "name": "stdout",
     "output_type": "stream",
     "text": [
      "0.9999999999999999 0.9999999999999999\n"
     ]
    },
    {
     "data": {
      "image/png": "[encoded data removed]",
      "text/plain": [
       "<Figure size 432x288 with 1 Axes>"
      ]
     },
     "metadata": {
      "needs_background": "light"
     },
     "output_type": "display_data"
    }
   ],
   "source": [
    "# compute the norm of each eigenvector\n",
    "mag_v1 = np.sqrt( np.sum( np.square(evecs[:,0])) )\n",
    "mag_v2 = np.sqrt( np.sum( np.square(evecs[:,1])) )\n",
    "print(mag_v1,mag_v2)\n",
    "\n",
    "# plot\n",
    "plt.plot([0,evecs[0,0]],[0,evecs[1,0]],'r',label='v1')\n",
    "plt.plot([0,evecs[0,1]],[0,evecs[1,1]],'k',label='v2')\n",
    "\n",
    "\n",
    "plt.axis([-1,1,-1,1])\n",
    "plt.legend()\n",
    "plt.show()"
   ]
  },
  {
   "cell_type": "markdown",
   "metadata": {},
   "source": [
    "\n",
    "---\n",
    "# VIDEO: Diagonalization\n",
    "---\n"
   ]
  },
  {
   "cell_type": "code",
   "execution_count": 3,
   "metadata": {},
   "outputs": [
    {
     "data": {
      "image/png": "[encoded data removed]",
      "text/plain": [
       "<Figure size 432x288 with 2 Axes>"
      ]
     },
     "metadata": {
      "needs_background": "light"
     },
     "output_type": "display_data"
    },
    {
     "name": "stdout",
     "output_type": "stream",
     "text": [
      "Reconstruction RMS: 7.911396613272408e-14\n"
     ]
    }
   ],
   "source": [
    "## eigendecomposition of A\n",
    "\n",
    "# make a symmetric matrix\n",
    "A = np.round(10*np.random.randn(4,4))\n",
    "A = A.T@A\n",
    "\n",
    "# eigendecomposition\n",
    "evals,evecs = np.linalg.eig(A)\n",
    "\n",
    "# test reconstruction\n",
    "Ap = evecs @ np.diag(evals) @ np.linalg.inv(evecs)\n",
    "\n",
    "\n",
    "# plot\n",
    "plt.subplot(121)\n",
    "plt.imshow(A)\n",
    "plt.axis('off')\n",
    "plt.title('A')\n",
    "\n",
    "plt.subplot(122)\n",
    "plt.imshow(Ap)\n",
    "plt.axis('off')\n",
    "plt.title('$V\\Lambda V^{-1}$')\n",
    "\n",
    "plt.show()\n",
    "\n",
    "# subtract the two (should be zero with rounding errors)\n",
    "recondiff = A-Ap\n",
    "\n",
    "# reconstruction error (note the numerical inaccuracies)\n",
    "rmsA = np.sqrt( np.mean(np.square( np.reshape(recondiff,(1,-1)) )) )\n",
    "\n",
    "print('Reconstruction RMS:', rmsA)\n"
   ]
  },
  {
   "cell_type": "code",
   "execution_count": 4,
   "metadata": {},
   "outputs": [
    {
     "data": {
      "image/png": "[encoded data removed]",
      "text/plain": [
       "<Figure size 432x288 with 4 Axes>"
      ]
     },
     "metadata": {
      "needs_background": "light"
     },
     "output_type": "display_data"
    }
   ],
   "source": [
    "## diagonalization in images\n",
    "\n",
    "# A matrix\n",
    "A = np.random.randn(10,10)\n",
    "A = A.T@A\n",
    "\n",
    "# eigendecomposition\n",
    "D,V = np.linalg.eig(A)\n",
    "\n",
    "# show the results\n",
    "plt.subplot(141)\n",
    "plt.imshow(A)\n",
    "plt.title('A')\n",
    "plt.axis('off')\n",
    "\n",
    "plt.subplot(142)\n",
    "plt.imshow(V)\n",
    "plt.title('V')\n",
    "plt.axis('off')\n",
    "\n",
    "plt.subplot(143)\n",
    "plt.imshow(np.diag(D))\n",
    "plt.title('$\\Lambda$')\n",
    "plt.axis('off')\n",
    "\n",
    "plt.subplot(144)\n",
    "plt.imshow(np.linalg.inv(V))\n",
    "plt.title('$V^{-1}$')\n",
    "plt.axis('off')\n",
    "\n",
    "plt.show()"
   ]
  },
  {
   "cell_type": "markdown",
   "metadata": {},
   "source": [
    "\n",
    "---\n",
    "Matrix powers via diagonalization\n",
    "---\n"
   ]
  },
  {
   "cell_type": "code",
   "execution_count": 13,
   "metadata": {},
   "outputs": [
    {
     "name": "stdout",
     "output_type": "stream",
     "text": [
      "[[0.31856331 0.03218475]\n",
      " [0.56867627 0.09187912]]\n",
      " \n",
      "[[0.31856331 0.03218475]\n",
      " [0.56867627 0.09187912]]\n"
     ]
    }
   ],
   "source": [
    "## matrix powers\n",
    "\n",
    "A = np.random.rand(2,2)\n",
    "\n",
    "# compute matrix power directly\n",
    "print( np.linalg.matrix_power(A,3) ) # A@A@A\n",
    "print(' ')\n",
    "\n",
    "# and via eigendecomposition\n",
    "D,V = np.linalg.eig(A)\n",
    "D = np.diag(D)\n",
    "\n",
    "# reproduce via diagonalization\n",
    "print(V @ np.linalg.matrix_power(D,3) @ np.linalg.inv(V) )"
   ]
  },
  {
   "cell_type": "code",
   "execution_count": 18,
   "metadata": {},
   "outputs": [
    {
     "name": "stdout",
     "output_type": "stream",
     "text": [
      "[[-0.34319954 -0.80557502  0.48297305]\n",
      " [-0.46652296 -0.30009085 -0.83204676]\n",
      " [-0.81521187  0.51087608  0.2728282 ]]\n",
      " \n",
      "[[ 0.34319954  0.80557502  0.48297305]\n",
      " [ 0.46652296  0.30009085 -0.83204676]\n",
      " [ 0.81521187 -0.51087608  0.2728282 ]]\n"
     ]
    },
    {
     "data": {
      "image/png": "[encoded data removed]",
      "text/plain": [
       "<Figure size 432x288 with 2 Axes>"
      ]
     },
     "metadata": {
      "needs_background": "light"
     },
     "output_type": "display_data"
    }
   ],
   "source": [
    "## eigenvalues of A and A^3\n",
    "\n",
    "# create a symmetric matrix\n",
    "A = np.random.rand(3,3)\n",
    "A = A@A.T\n",
    "\n",
    "D,V   = np.linalg.eig(A)\n",
    "D3,V3 = np.linalg.eig( A@A@A )\n",
    "\n",
    "print(V), print(' ')\n",
    "print(V3)\n",
    "\n",
    "plt.subplot(221)\n",
    "plt.imshow(V)\n",
    "plt.axis('off')\n",
    "plt.title('evecs of A')\n",
    "\n",
    "plt.subplot(223)\n",
    "plt.imshow(V3)\n",
    "plt.axis('off')\n",
    "plt.title('evecs of A^3')\n",
    "\n",
    "plt.show()"
   ]
  },
  {
   "cell_type": "code",
   "execution_count": 19,
   "metadata": {},
   "outputs": [
    {
     "data": {
      "image/png": "[encoded data removed]",
      "text/plain": [
       "<Figure size 432x288 with 1 Axes>"
      ]
     },
     "metadata": {
      "needs_background": "light"
     },
     "output_type": "display_data"
    },
    {
     "data": {
      "image/png": "[encoded data removed]",
      "text/plain": [
       "<Figure size 432x288 with 1 Axes>"
      ]
     },
     "metadata": {
      "needs_background": "light"
     },
     "output_type": "display_data"
    }
   ],
   "source": [
    "## plot the eigenvectors and eigenvalues\n",
    "\n",
    "fig = plt.figure()\n",
    "ax = fig.gca(projection='3d')\n",
    "\n",
    "# plot eigenvectors of A\n",
    "ax.plot([0,V[0,0]],[0,V[1,0]],[0,V[2,0]],'r')\n",
    "ax.plot([0,V[0,1]],[0,V[1,1]],[0,V[2,1]],'k')\n",
    "ax.plot([0,V[0,2]],[0,V[1,2]],[0,V[2,2]],'b')\n",
    "\n",
    "# plot eigenvectors of A^3\n",
    "ax.plot([0,V3[0,0]],[0,V3[1,0]],[0,V3[2,0]],'r--')\n",
    "ax.plot([0,V3[0,1]],[0,V3[1,1]],[0,V3[2,1]],'k--')\n",
    "ax.plot([0,V3[0,2]],[0,V3[1,2]],[0,V3[2,2]],'b--')\n",
    "\n",
    "plt.show()\n",
    "\n",
    "## show the eigenvalues\n",
    "plt.plot([1,2,3],D,'bs-',label='A')\n",
    "plt.plot([1.1,2.1,3.1],D3,'rs-',label='A^3')\n",
    "plt.title('Eigenvalues')\n",
    "plt.legend()\n",
    "plt.show()"
   ]
  },
  {
   "cell_type": "code",
   "execution_count": 17,
   "metadata": {},
   "outputs": [
    {
     "name": "stdout",
     "output_type": "stream",
     "text": [
      "[1.09616402 0.014154   0.16660481]\n",
      " \n",
      "[1.31712390e+00 2.83554948e-06 4.62447705e-03]\n",
      " \n",
      "[1.31712390e+00 2.83554948e-06 4.62447705e-03]\n"
     ]
    }
   ],
   "source": [
    "print(D), print(' ')\n",
    "print(D3), print(' ')\n",
    "print(D**3)"
   ]
  },
  {
   "cell_type": "code",
   "execution_count": 22,
   "metadata": {},
   "outputs": [
    {
     "name": "stdout",
     "output_type": "stream",
     "text": [
      "[6. 9.]\n",
      "(array([6., 9.]), array([[-0.70710678, -0.4472136 ],\n",
      "       [ 0.70710678, -0.89442719]]))\n"
     ]
    },
    {
     "data": {
      "image/png": "[encoded data removed]",
      "text/plain": [
       "<Figure size 432x288 with 1 Axes>"
      ]
     },
     "metadata": {
      "needs_background": "light"
     },
     "output_type": "display_data"
    }
   ],
   "source": [
    "A = [ [7,1], [2,8] ]\n",
    "\n",
    "# extract the eigenvalues\n",
    "eigvals = np.linalg.eig(A)\n",
    "\n",
    "# note that the eigenvalues are in the first element of eigvals:\n",
    "print(eigvals[0])\n",
    "print(eigvals)\n",
    "\n",
    "\n",
    "# specify two vectors\n",
    "v1 = np.array([ 1,1 ])    # is an eigenvector!\n",
    "v2 = np.random.randn(2,1) # unlikely to be an eigenvector\n",
    "v2 = v2/np.linalg.norm(v2)# unit length for convenience\n",
    "\n",
    "# compute Av\n",
    "Av1 = A@v1\n",
    "Av2 = A@v2\n",
    "\n",
    "\n",
    "# plot the vectors and Av\n",
    "plt.plot([0,v1[0]] ,[0,v1[1]],'r')\n",
    "plt.plot([0,Av1[0]],[0,Av1[1]],'r--')\n",
    "plt.plot([0,v2[0]] ,[0,v2[1]],'k')\n",
    "plt.plot([0,Av2[0]],[0,Av2[1]],'k--')\n",
    "\n",
    "plt.axis([-8,8,-8,8])\n",
    "plt.show()"
   ]
  },
  {
   "cell_type": "markdown",
   "metadata": {},
   "source": [
    "---\n",
    "# EIGENLAYERS\n",
    "---"
   ]
  },
  {
   "cell_type": "code",
   "execution_count": 37,
   "metadata": {},
   "outputs": [
    {
     "name": "stdout",
     "output_type": "stream",
     "text": [
      "[-0.9407281   0.27407023  0.05740294 -0.14611453 -0.12357832]\n",
      "[[-0.9407281 ]\n",
      " [ 0.27407023]\n",
      " [ 0.05740294]\n",
      " [-0.14611453]\n",
      " [-0.12357832]]\n"
     ]
    }
   ],
   "source": [
    "# Create mxm sym matrix\n",
    "m = 5\n",
    "A = np.random.randn(5,5)\n",
    "A = np.round(10*A.T@A) # round and make sym\n",
    "\n",
    "# Take egien decomposition\n",
    "D,V = np.linalg.eig(A) # D- eigenvals, V - eigenvectors\n",
    "\n",
    "# convert to column vector\n",
    "v = V[:,2] # extract 3d eigen vector\n",
    "\n",
    "print(v)\n",
    "print(np.reshape(v,(m,1)))\n",
    "\n",
    "\n"
   ]
  },
  {
   "cell_type": "code",
   "execution_count": 44,
   "metadata": {},
   "outputs": [
    {
     "name": "stdout",
     "output_type": "stream",
     "text": [
      "[[ 0.88496936 -0.25782556 -0.05400056  0.13745404  0.1162536 ]\n",
      " [-0.25782556  0.07511449  0.01573244 -0.04004564 -0.03386914]\n",
      " [-0.05400056  0.01573244  0.0032951  -0.0083874  -0.00709376]\n",
      " [ 0.13745404 -0.04004564 -0.0083874   0.02134945  0.01805659]\n",
      " [ 0.1162536  -0.03386914 -0.00709376  0.01805659  0.0152716 ]]\n",
      "\n",
      "[[ 0.88496936 -0.25782556 -0.05400056  0.13745404  0.1162536 ]\n",
      " [-0.25782556  0.07511449  0.01573244 -0.04004564 -0.03386914]\n",
      " [-0.05400056  0.01573244  0.0032951  -0.0083874  -0.00709376]\n",
      " [ 0.13745404 -0.04004564 -0.0083874   0.02134945  0.01805659]\n",
      " [ 0.1162536  -0.03386914 -0.00709376  0.01805659  0.0152716 ]]\n",
      "1.0000000000000002\n"
     ]
    }
   ],
   "source": [
    "# Show that the norm vector of outer product of v_i = 1\n",
    "\n",
    "op = np.outer(v,v)\n",
    "print(op)\n",
    "print()\n",
    "\n",
    "v = np.reshape(V[:,2],(m,1))\n",
    "print(v*v.T)\n",
    "\n",
    "print(np.linalg.norm(op))"
   ]
  },
  {
   "cell_type": "code",
   "execution_count": 50,
   "metadata": {},
   "outputs": [
    {
     "name": "stdout",
     "output_type": "stream",
     "text": [
      "13.745129078021805\n",
      "13.745129078021801\n"
     ]
    }
   ],
   "source": [
    "# create one layer of matrix A as lvv', compute its norm\n",
    "# print(v*D[2]*v.T)\n",
    "print(np.linalg.norm(v*D[2]*v.T))\n",
    "print(D[2])"
   ]
  },
  {
   "cell_type": "code",
   "execution_count": 51,
   "metadata": {},
   "outputs": [
    {
     "name": "stdout",
     "output_type": "stream",
     "text": [
      "1\n",
      "2\n",
      "3\n",
      "4\n",
      "5\n",
      "[[ 20.  11.  -6. -11. -13.]\n",
      " [ 11.  42. -12. -20.  -3.]\n",
      " [ -6. -12.  59. -16.  59.]\n",
      " [-11. -20. -16.  34.   8.]\n",
      " [-13.  -3.  59.   8. 124.]]\n",
      "\n",
      "[[ 20.  11.  -6. -11. -13.]\n",
      " [ 11.  42. -12. -20.  -3.]\n",
      " [ -6. -12.  59. -16.  59.]\n",
      " [-11. -20. -16.  34.   8.]\n",
      " [-13.  -3.  59.   8. 124.]]\n"
     ]
    }
   ],
   "source": [
    "# Reconstruct all matrix\n",
    "\n",
    "Arecon = np.zeros((m,m))\n",
    "\n",
    "for i in range(m):\n",
    "    v = np.reshape(V[:,i],(m,1))\n",
    "    Arecon += v*D[i]*v.T\n",
    "    print(np.linalg.matrix_rank(Arecon))\n",
    "    \n",
    "print(A)\n",
    "print()\n",
    "print(Arecon)"
   ]
  },
  {
   "cell_type": "code",
   "execution_count": 4,
   "metadata": {},
   "outputs": [],
   "source": [
    "## eigendecomposition of A\n",
    "\n",
    "# make a symmetric matrix\n",
    "A = np.round(10*np.random.randn(4,4))\n",
    "A = A.T@A\n",
    "\n",
    "#eigendecomposition\n",
    "evals,evecs = np.linalg.eig(A)\n",
    "\n",
    "# # test reconstruction\n",
    "# Ap = evecs @ np.diag(evals) @ np.linalg.inv(evecs)\n",
    "\n",
    "\n",
    "# # plot\n",
    "# plt.subplot(121)\n",
    "# plt.imshow(A)\n",
    "# plt.axis('off')\n",
    "# plt.title('A')\n",
    "\n",
    "# plt.subplot(122)\n",
    "# plt.imshow(Ap)\n",
    "# plt.axis('off')\n",
    "# plt.title('$V\\Lambda V^{-1}$')\n",
    "\n",
    "# plt.show()\n",
    "\n",
    "# # subtract the two (should be zero with rounding errors)\n",
    "# recondiff = A-Ap\n",
    "\n",
    "# # reconstruction error (note the numerical inaccuracies)\n",
    "# rmsA = np.sqrt( np.mean(np.square( np.reshape(recondiff,(1,-1)) )) )\n",
    "\n",
    "# print('Reconstruction RMS:', rmsA)\n"
   ]
  },
  {
   "cell_type": "markdown",
   "metadata": {},
   "source": [
    "---\n",
    "### Diagonalizaton One more example\n",
    "---"
   ]
  },
  {
   "cell_type": "code",
   "execution_count": 29,
   "metadata": {},
   "outputs": [
    {
     "name": "stdout",
     "output_type": "stream",
     "text": [
      "Original matrix:\n",
      " [[35 29 16]\n",
      " [29 29 16]\n",
      " [16 16 14]]\n",
      "Eigenvalues:\n",
      " [70.23801489  5.38050223  2.38148289]\n",
      "\n",
      "Eigenvectors:\n",
      " [[-0.68468184 -0.51909246  0.5116188 ]\n",
      " [-0.62619369  0.05976703 -0.77737337]\n",
      " [-0.37295073  0.85262589  0.36597383]]\n"
     ]
    }
   ],
   "source": [
    "A = np.array([[1,2,3],[3,4,1],[5,3,2]])\n",
    "A = A.T@A\n",
    "#eigendecomposition\n",
    "evals,evecs = np.linalg.eig(A)\n",
    "\n",
    "print(f'Original matrix:\\n {A}')\n",
    "print(f'Eigenvalues:\\n {evals}')\n",
    "print()\n",
    "print(f'Eigenvectors:\\n {evecs}')\n"
   ]
  },
  {
   "cell_type": "code",
   "execution_count": 38,
   "metadata": {},
   "outputs": [
    {
     "data": {
      "text/plain": [
       "array([[35., 29., 16.],\n",
       "       [29., 29., 16.],\n",
       "       [16., 16., 14.]])"
      ]
     },
     "execution_count": 38,
     "metadata": {},
     "output_type": "execute_result"
    }
   ],
   "source": [
    "# RECREATE MATRIX A\n",
    "Arec = evecs@np.diag(evals)@np.linalg.inv(evecs)\n",
    "Arec"
   ]
  },
  {
   "cell_type": "code",
   "execution_count": 26,
   "metadata": {},
   "outputs": [
    {
     "data": {
      "text/plain": [
       "array([[35., 29., 16.],\n",
       "       [29., 29., 16.],\n",
       "       [16., 16., 14.]])"
      ]
     },
     "execution_count": 26,
     "metadata": {},
     "output_type": "execute_result"
    }
   ],
   "source": [
    "# lets create such matrix where basis will be eq to egienvectors (for original matrix)\n",
    "Adiag = np.linalg.inv(evecs)@A@evecs\n",
    "Adiag"
   ]
  },
  {
   "cell_type": "code",
   "execution_count": 39,
   "metadata": {},
   "outputs": [
    {
     "data": {
      "text/plain": [
       "array([[2322., 2112., 1248.],\n",
       "       [2112., 1938., 1152.],\n",
       "       [1248., 1152.,  708.]])"
      ]
     },
     "execution_count": 39,
     "metadata": {},
     "output_type": "execute_result"
    }
   ],
   "source": [
    "#This allows us to power matrices\n",
    "\n",
    "Apower = Adiag**2\n",
    "Bpower = evecs@Apower@np.linalg.inv(evecs)\n",
    "Bpower"
   ]
  },
  {
   "cell_type": "code",
   "execution_count": 40,
   "metadata": {},
   "outputs": [
    {
     "data": {
      "text/plain": [
       "array([[2322, 2112, 1248],\n",
       "       [2112, 1938, 1152],\n",
       "       [1248, 1152,  708]])"
      ]
     },
     "execution_count": 40,
     "metadata": {},
     "output_type": "execute_result"
    }
   ],
   "source": [
    "#same as\n",
    "np.linalg.matrix_power(A,2)"
   ]
  },
  {
   "cell_type": "code",
   "execution_count": 43,
   "metadata": {},
   "outputs": [
    {
     "name": "stdout",
     "output_type": "stream",
     "text": [
      "Original matrix:\n",
      " [[1.     0.9922]\n",
      " [0.9922 1.    ]]\n",
      "Eigenvalues:\n",
      " [1.9922 0.0078]\n",
      "\n",
      "Eigenvectors:\n",
      " [[ 0.70710678 -0.70710678]\n",
      " [ 0.70710678  0.70710678]]\n"
     ]
    }
   ],
   "source": [
    "A = np.array([[1,0.9922],[0.9922,1]])\n",
    "#A = A.T@A\n",
    "#eigendecomposition\n",
    "evals,evecs = np.linalg.eig(A)\n",
    "\n",
    "print(f'Original matrix:\\n {A}')\n",
    "print(f'Eigenvalues:\\n {evals}')\n",
    "print()\n",
    "print(f'Eigenvectors:\\n {evecs}')"
   ]
  },
  {
   "cell_type": "markdown",
   "metadata": {},
   "source": [
    "---\n",
    "# Trace and determinant eigenvalues sum and product\n",
    "---"
   ]
  },
  {
   "cell_type": "code",
   "execution_count": 21,
   "metadata": {},
   "outputs": [
    {
     "name": "stdout",
     "output_type": "stream",
     "text": [
      "Original matrix:\n",
      " [[ 207.  155.  -80.   24.  193.]\n",
      " [ 155.  379.   90. -275.  -70.]\n",
      " [ -80.   90.  247.  -18. -366.]\n",
      " [  24. -275.  -18.  563.   44.]\n",
      " [ 193.  -70. -366.   44.  579.]]\n",
      "\n",
      "Trace of A: 1975.0\n",
      "\n",
      "Det A: 417017241.0000068\n",
      "\n",
      "Evals of A: [9.18225978e+02 7.37826396e+02 3.13591293e+02 3.95683229e-01\n",
      " 4.96065025e+00]\n",
      "\n",
      "sum of evals: 1975.0000000000014\n",
      "Product of eigen vals 417017240.99998105\n"
     ]
    }
   ],
   "source": [
    "# Trace(A) = sum(evals)\n",
    "# det(A) = prod(evals)\n",
    "# Let's explore\n",
    "\n",
    "# Create an square sym matrix\n",
    "m = 5\n",
    "A = np.array(np.random.randn(m,m))\n",
    "A = np.round(10*A)\n",
    "A = A.T@A\n",
    "print( f'Original matrix:\\n {A}' )\n",
    "print()\n",
    "\n",
    "# Compute trace and det\n",
    "tr = np.matrix.trace(A)\n",
    "print(f'Trace of A: {tr}')\n",
    "det = np.linalg.det(A)\n",
    "print()\n",
    "print(f'Det A: {det}')\n",
    "print()\n",
    "\n",
    "# Extract evals\n",
    "evals,evec = np.linalg.eig(A)\n",
    "print(f'Evals of A: {evals}')\n",
    "print()\n",
    "\n",
    "# sum Evals\n",
    "sumEva = sum(evals)\n",
    "print(f'sum of evals: {sumEva}')\n",
    "\n",
    "# compute product of evals\n",
    "prod = np.prod(evals)\n",
    "print(f'Product of eigen vals {prod}')\n",
    "# repeat for reduce rank M"
   ]
  },
  {
   "cell_type": "code",
   "execution_count": 17,
   "metadata": {},
   "outputs": [
    {
     "name": "stdout",
     "output_type": "stream",
     "text": [
      "Original matrix:\n",
      " [[-1.28243641 -0.20908325 -3.67324926 -1.70639568 -1.28003714  5.12479141\n",
      "  -1.49658746]\n",
      " [ 1.47681435 -1.1588853  -3.25014079  1.34200127  0.32404227 -0.33800703\n",
      "  -0.23046508]\n",
      " [-0.91466606 -1.84156445 -4.59282343  1.25073559 -0.86297734 -0.61505589\n",
      "  -0.24167562]\n",
      " [-0.8862741   0.1198776   1.89897117 -0.33576674 -0.54245142 -1.3739651\n",
      "   0.26166591]\n",
      " [ 1.0323955  -0.92895304 -2.92109294  2.12971075  0.27408819 -3.0571767\n",
      "   0.48519444]\n",
      " [ 3.70437977  0.5389521   0.03445165 -0.40397554 -0.14116457 -0.41749707\n",
      "  -0.84151423]\n",
      " [ 1.73523759  2.46092368  1.98237934  2.11578227  3.05847988 -3.41579581\n",
      "   2.11567969]]\n",
      "Rank:\n",
      " 5\n",
      "\n",
      "Trace of A: -5.39764107973944\n",
      "\n",
      "Det A: 1.1677419277525984e-29\n",
      "\n",
      "Evals of A: [ 5.62555077e+00+0.j         -5.61833067e+00+0.59701263j\n",
      " -5.61833067e+00-0.59701263j  1.23808769e+00+0.j\n",
      " -1.02461821e+00+0.j          1.56014400e-15+0.j\n",
      " -8.02730300e-16+0.j        ]\n",
      "\n",
      "sum of evals: (-5.3976410797394445+0j)\n",
      "Product of eigen vals (2.8530134791948393e-28+5.644273182938917e-45j)\n"
     ]
    }
   ],
   "source": [
    "# repeat for reduce rank M\n",
    "\n",
    "\n",
    "# Create an square sym matrix\n",
    "m = 5\n",
    "A = np.random.randn(7,5) @ np.random.randn(5,7)\n",
    "print( f'Original matrix:\\n {A}' )\n",
    "print( f'Rank:\\n {np.linalg.matrix_rank(A)}' )\n",
    "print()\n",
    "\n",
    "# Compute trace and det\n",
    "tr = np.trace(A)\n",
    "print(f'Trace of A: {tr}')\n",
    "det = np.linalg.det(A)\n",
    "print()\n",
    "print(f'Det A: {det}')\n",
    "print()\n",
    "\n",
    "# Extract evals\n",
    "evals,evec = np.linalg.eig(A)\n",
    "print(f'Evals of A: {evals}')\n",
    "print()\n",
    "\n",
    "# sum Evals\n",
    "sumEva = sum(evals)\n",
    "print(f'sum of evals: {sumEva}')\n",
    "\n",
    "# compute product of evals\n",
    "prod = np.prod(evals)\n",
    "print(f'Product of eigen vals {prod}')\n",
    "# repeat for reduce rank M"
   ]
  },
  {
   "cell_type": "code",
   "execution_count": 19,
   "metadata": {},
   "outputs": [],
   "source": [
    "# As we see, we hjave two zero eigen vals\n",
    "# Also, the product of eigenvals zero as well as det"
   ]
  },
  {
   "cell_type": "markdown",
   "metadata": {},
   "source": [
    "\n",
    "---\n",
    "# Generalized eigendecomposition\n",
    "---\n"
   ]
  },
  {
   "cell_type": "code",
   "execution_count": 23,
   "metadata": {},
   "outputs": [
    {
     "data": {
      "image/png": "[encoded data removed]",
      "text/plain": [
       "<Figure size 432x288 with 1 Axes>"
      ]
     },
     "metadata": {
      "needs_background": "light"
     },
     "output_type": "display_data"
    },
    {
     "data": {
      "image/png": "[encoded data removed]",
      "text/plain": [
       "<Figure size 432x288 with 1 Axes>"
      ]
     },
     "metadata": {
      "needs_background": "light"
     },
     "output_type": "display_data"
    },
    {
     "data": {
      "image/png": "[encoded data removed]",
      "text/plain": [
       "<Figure size 432x288 with 1 Axes>"
      ]
     },
     "metadata": {
      "needs_background": "light"
     },
     "output_type": "display_data"
    }
   ],
   "source": [
    "import scipy.linalg # kindof annoying, but numpy doesn't do GED\n",
    "\n",
    "# define matrices\n",
    "A = np.array([ [3,2], [1,3]])\n",
    "B = np.array([ [1,1], [4,1]])\n",
    "\n",
    "# GED\n",
    "eigvals,eigvecs = scipy.linalg.eig(A,B)\n",
    "\n",
    "\n",
    "# matrix-vector multiplication\n",
    "Av = A@eigvecs[:,1]\n",
    "Bv = B@eigvecs[:,1]\n",
    "BinvAv = np.linalg.inv(B)@A@eigvecs[:,1]\n",
    "\n",
    "\n",
    "plt.plot([0,eigvecs[0,1]],[0,eigvecs[1,1]],'k',linewidth=4,label='$v_2$')\n",
    "plt.plot([0,Av[0]],[0,Av[1]],'r--',linewidth=2,label='$Av_2$')\n",
    "plt.xlim([-3,3]), plt.ylim([-3,3])\n",
    "plt.plot([-3,3],[0,0],'k:')\n",
    "plt.plot([0,0],[-3,3],'k:')\n",
    "plt.legend()\n",
    "plt.title('Av')\n",
    "plt.show()\n",
    "\n",
    "plt.plot([0,eigvecs[0,1]],[0,eigvecs[1,1]],'k',linewidth=4,label='$v_2$')\n",
    "plt.plot([0,Bv[0]],[0,Bv[1]],'r--',linewidth=2,label='$Bv_2$')\n",
    "plt.xlim([-3,3]), plt.ylim([-3,3])\n",
    "plt.plot([-3,3],[0,0],'k:')\n",
    "plt.plot([0,0],[-3,3],'k:')\n",
    "plt.legend()\n",
    "plt.title('Bv')\n",
    "plt.show()\n",
    "\n",
    "\n",
    "plt.plot([0,eigvecs[0,1]],[0,eigvecs[1,1]],'k',linewidth=4,label='$v_2$')\n",
    "plt.plot([0,BinvAv[0]],[0,BinvAv[1]],'r--',linewidth=2,label='B$^{-1}$Av_2')\n",
    "plt.xlim([-3,3]), plt.ylim([-3,3])\n",
    "plt.plot([-3,3],[0,0],'k:')\n",
    "plt.plot([0,0],[-3,3],'k:')\n",
    "plt.legend()\n",
    "plt.title('B$^{-1}$Av')\n",
    "plt.show()"
   ]
  },
  {
   "cell_type": "code",
   "execution_count": null,
   "metadata": {},
   "outputs": [],
   "source": []
  }
 ],
 "metadata": {
  "kernelspec": {
   "display_name": "Python 3",
   "language": "python",
   "name": "python3"
  },
  "language_info": {
   "codemirror_mode": {
    "name": "ipython",
    "version": 3
   },
   "file_extension": ".py",
   "mimetype": "text/x-python",
   "name": "python",
   "nbconvert_exporter": "python",
   "pygments_lexer": "ipython3",
   "version": "3.8.3"
  }
 },
 "nbformat": 4,
 "nbformat_minor": 4
}
