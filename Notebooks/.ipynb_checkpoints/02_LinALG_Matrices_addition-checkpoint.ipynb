{
 "cells": [
  {
   "cell_type": "code",
   "execution_count": 1,
   "metadata": {},
   "outputs": [],
   "source": [
    "import numpy as np"
   ]
  },
  {
   "cell_type": "markdown",
   "metadata": {},
   "source": [
    "\n",
    "---\n",
    "# Matrix Zoo\n",
    "---\n"
   ]
  },
  {
   "cell_type": "code",
   "execution_count": 13,
   "metadata": {},
   "outputs": [
    {
     "name": "stdout",
     "output_type": "stream",
     "text": [
      "[[ 0.02937617  1.30466143  0.40004161 -0.35478564 -0.22581604]\n",
      " [ 1.40088754 -0.54769433  0.34719376  0.60494991  0.74293363]\n",
      " [ 0.56273107 -0.5151296   2.21730804 -1.3531857   0.2008954 ]\n",
      " [-1.80684182 -0.56770346  0.11047131  0.14643193  0.77368207]\n",
      " [ 1.3608623  -1.05024487 -0.48448011  0.40640255  1.20573397]]\n",
      " \n",
      "[[ 0.48075792  0.12789743]\n",
      " [ 0.19065128 -1.37777783]\n",
      " [-0.34935895 -0.05632724]\n",
      " [-0.97806965  1.69946519]\n",
      " [-0.33284297  2.13806038]]\n",
      "\n",
      "[[1. 0. 0.]\n",
      " [0. 1. 0.]\n",
      " [0. 0. 1.]]\n",
      "\n",
      "[[1 0 0 0 0]\n",
      " [0 2 0 0 0]\n",
      " [0 0 3 0 0]\n",
      " [0 0 0 5 0]\n",
      " [0 0 0 0 2]]\n",
      " \n",
      "[[ 0.47012805  0.          0.          0.          0.        ]\n",
      " [-0.15051127 -0.61055689  0.          0.          0.        ]\n",
      " [ 1.96083867 -0.34446517 -0.31954583  0.          0.        ]\n",
      " [ 1.11771068 -0.27179978  0.75646878  0.94794217  0.        ]\n",
      " [ 0.07239056  0.075159   -0.53829128 -2.305914   -0.74036746]]\n",
      "\n",
      "[[ 0.47012805 -0.54636284  0.23693388 -0.06011806 -1.01912467]\n",
      " [ 0.         -0.61055689  1.16054875 -1.8420792  -0.47199901]\n",
      " [ 0.          0.         -0.31954583 -0.37316919  0.19856532]\n",
      " [ 0.          0.          0.          0.94794217  0.15555277]\n",
      " [ 0.          0.          0.          0.         -0.74036746]]\n",
      "[[ 1.58979376 -0.68030195 -1.36868911  1.65479956 -0.25585337 -0.22659643]\n",
      " [-1.92408478 -0.50871874  0.1301151  -2.22789919 -0.37748988  0.49134271]\n",
      " [-0.91804446  0.54142522  0.4810457   0.75325826 -1.53499109 -2.08165211]\n",
      " [ 0.88798197 -0.68254792  1.86222313 -0.22674111 -1.43671665  0.32154918]]\n"
     ]
    }
   ],
   "source": [
    "# square matrices\n",
    "\n",
    "S = np.random.randn(5,5)\n",
    "R = np.random.randn(5,2)\n",
    "print(S), print(' ')\n",
    "print(R)\n",
    "print()\n",
    "# identity\n",
    "\n",
    "I = np.eye(3)\n",
    "print(I) \n",
    "print()\n",
    "\n",
    "# diagonal\n",
    "D = np.diag([ 1, 2, 3, 5, 2 ])\n",
    "print(D), print(' ')\n",
    "\n",
    "# create triangular matrix from full matrices\n",
    "S = np.random.randn(5,5)\n",
    "U = np.triu(S)\n",
    "L = np.tril(S)\n",
    "print(L)\n",
    "print()\n",
    "print(U)\n",
    "\n",
    "# concatenate matrices (sizes must match!)\n",
    "A = np.random.randn(4,2)\n",
    "B = np.random.randn(4,4)\n",
    "C = np.concatenate((A,B),axis=1)\n",
    "print(C)"
   ]
  },
  {
   "cell_type": "markdown",
   "metadata": {},
   "source": [
    "\n",
    "---\n",
    "# Matrix addition and subtraction\n",
    "---\n"
   ]
  },
  {
   "cell_type": "code",
   "execution_count": 19,
   "metadata": {},
   "outputs": [
    {
     "name": "stdout",
     "output_type": "stream",
     "text": [
      "[[-0.01168246 -0.97191098  0.09104208 -1.90739991  0.21830995]\n",
      " [ 1.51701538 -0.15044115  0.44044386 -1.16834966  0.10721591]\n",
      " [-0.57685662 -0.20429869 -1.09500076  1.70303175 -0.70899522]\n",
      " [-0.03740859 -1.52788582 -0.25671475  1.33506007 -0.69480048]\n",
      " [-1.0056585   1.01749745 -0.20625396  0.4233557  -1.60276144]]\n",
      "\n",
      "[[ 0.28831754 -0.97191098  0.09104208 -1.90739991  0.21830995]\n",
      " [ 1.51701538  0.14955885  0.44044386 -1.16834966  0.10721591]\n",
      " [-0.57685662 -0.20429869 -0.79500076  1.70303175 -0.70899522]\n",
      " [-0.03740859 -1.52788582 -0.25671475  1.63506007 -0.69480048]\n",
      " [-1.0056585   1.01749745 -0.20625396  0.4233557  -1.30276144]]\n"
     ]
    }
   ],
   "source": [
    "# create random matrix\n",
    "\n",
    "A = np.random.randn(5,4)\n",
    "B = np.random.randn(5,4)\n",
    "C = np.random.randn(5,4)\n",
    "\n",
    "# try to add them\n",
    "A+B\n",
    "B+C\n",
    "\n",
    "# \"shifting\" a matrix\n",
    "l = .3 #lambda\n",
    "N = 5 # size of matrix\n",
    "D = np.random.randn(N,N) # can shift only square matrix\n",
    "\n",
    "Ds = D + l*np.eye(N)\n",
    "\n",
    "print(D)\n",
    "print()\n",
    "print(Ds)\n",
    "# Ds has changed only diagonal elements\n"
   ]
  },
  {
   "cell_type": "markdown",
   "metadata": {},
   "source": [
    "\n",
    "---\n",
    "# Scalar Multiplication\n",
    "---\n"
   ]
  },
  {
   "cell_type": "code",
   "execution_count": 21,
   "metadata": {},
   "outputs": [
    {
     "name": "stdout",
     "output_type": "stream",
     "text": [
      "[[ 2  4]\n",
      " [ 4 10]]\n",
      "\n",
      "[[ 2  4]\n",
      " [ 4 10]]\n"
     ]
    }
   ],
   "source": [
    "# define ,atrix and scalar\n",
    "\n",
    "M = np.array([[1,2],[2,5]])\n",
    "s = 2\n",
    "\n",
    "print(M*s)\n",
    "print()\n",
    "print(s*M)"
   ]
  },
  {
   "cell_type": "code",
   "execution_count": 25,
   "metadata": {},
   "outputs": [
    {
     "name": "stdout",
     "output_type": "stream",
     "text": [
      "[[-2.22025738  1.54827903  1.58352818  0.94853205 -2.14122458]\n",
      " [-0.64427297 -1.31869392  1.59389129 -5.4663184   0.40167754]\n",
      " [ 1.87762418  3.30966269 -1.32887191 -2.48700589  1.78826167]\n",
      " [ 3.16367877 -0.51945379  4.86471059 -4.15259241  0.04498734]\n",
      " [ 0.29029029  0.20008991  2.98225479  0.91859357  1.06093782]\n",
      " [ 3.42412652 -0.39901514 -0.1890929   1.45656424  3.22186591]\n",
      " [ 2.70281061 -1.79127068 -5.03921698 -1.80356298  3.42936313]]\n",
      "\n",
      "[[-2.22025738  1.54827903  1.58352818  0.94853205 -2.14122458]\n",
      " [-0.64427297 -1.31869392  1.59389129 -5.4663184   0.40167754]\n",
      " [ 1.87762418  3.30966269 -1.32887191 -2.48700589  1.78826167]\n",
      " [ 3.16367877 -0.51945379  4.86471059 -4.15259241  0.04498734]\n",
      " [ 0.29029029  0.20008991  2.98225479  0.91859357  1.06093782]\n",
      " [ 3.42412652 -0.39901514 -0.1890929   1.45656424  3.22186591]\n",
      " [ 2.70281061 -1.79127068 -5.03921698 -1.80356298  3.42936313]]\n",
      "\n",
      "[[0. 0. 0. 0. 0.]\n",
      " [0. 0. 0. 0. 0.]\n",
      " [0. 0. 0. 0. 0.]\n",
      " [0. 0. 0. 0. 0.]\n",
      " [0. 0. 0. 0. 0.]\n",
      " [0. 0. 0. 0. 0.]\n",
      " [0. 0. 0. 0. 0.]]\n"
     ]
    }
   ],
   "source": [
    "# whether two random matrices s(A+B) = sA +sB\n",
    "m=7\n",
    "n=5\n",
    "\n",
    "A = np.random.randn(m,n)\n",
    "B = np.random.randn(m,n)\n",
    "# scalar\n",
    "l = np.random.randn()\n",
    "\n",
    "resA = s*(A+B)\n",
    "resB = s*A + s*B\n",
    "\n",
    "print(resA)\n",
    "print()\n",
    "print(resB)\n",
    "print()\n",
    "print(resA-resB)\n",
    "\n",
    "# yes. it is same"
   ]
  },
  {
   "cell_type": "markdown",
   "metadata": {},
   "source": [
    "\n",
    "---\n",
    "# Transpose\n",
    "---\n"
   ]
  },
  {
   "cell_type": "code",
   "execution_count": 26,
   "metadata": {},
   "outputs": [
    {
     "name": "stdout",
     "output_type": "stream",
     "text": [
      "[[1 2 3]\n",
      " [2 3 4]]\n",
      "\n",
      "[[1 2]\n",
      " [2 3]\n",
      " [3 4]]\n",
      "\n",
      "[[1 2 3]\n",
      " [2 3 4]]\n",
      "\n",
      "[[1 2]\n",
      " [2 3]\n",
      " [3 4]]\n"
     ]
    }
   ],
   "source": [
    "M = np.array([ [1,2,3],\n",
    "               [2,3,4] ])\n",
    "\n",
    "print(M), print('')\n",
    "print(M.T), print('') # one transpose\n",
    "print(M.T.T), print('') # double-transpose returns the original matrix\n",
    "\n",
    "# can also use the function transpose\n",
    "print(np.transpose(M))"
   ]
  },
  {
   "cell_type": "code",
   "execution_count": 27,
   "metadata": {},
   "outputs": [
    {
     "name": "stdout",
     "output_type": "stream",
     "text": [
      "[[4.+1.j 3.+0.j 2.-4.j]]\n",
      "\n",
      "[[4.+1.j]\n",
      " [3.+0.j]\n",
      " [2.-4.j]]\n",
      "\n",
      "[[4.+1.j]\n",
      " [3.+0.j]\n",
      " [2.-4.j]]\n",
      "\n",
      "[[4.-1.j]\n",
      " [3.-0.j]\n",
      " [2.+4.j]]\n"
     ]
    }
   ],
   "source": [
    "# warning! be careful when using complex matrices\n",
    "C = np.array([ [4+1j , 3 , 2-4j] ])\n",
    "\n",
    "print(C), print('')\n",
    "print(C.T), print('')\n",
    "print(np.transpose(C)), print('')\n",
    "\n",
    "# Note: In MATLAB, the transpose is the Hermitian transpose; \n",
    "#       in Python, you need to call the Hermitian explicitly by first converting from an array into a matrix\n",
    "print(np.matrix(C).H) # note the sign flips!\n"
   ]
  },
  {
   "cell_type": "markdown",
   "metadata": {},
   "source": [
    "\n",
    "---\n",
    "# Diagonal and Trace\n",
    "---\n"
   ]
  },
  {
   "cell_type": "code",
   "execution_count": 34,
   "metadata": {},
   "outputs": [
    {
     "name": "stdout",
     "output_type": "stream",
     "text": [
      "[ 0.  2.  1. -2.]\n",
      "\n",
      "[[ 0.  0.  0.  0.]\n",
      " [ 0.  2.  0.  0.]\n",
      " [ 0.  0.  1.  0.]\n",
      " [ 0.  0.  0. -2.]]\n",
      "1.0 1.0\n"
     ]
    }
   ],
   "source": [
    "M = np.round(5*np.random.randn(4,4))\n",
    "\n",
    "# Extract the diagonal\n",
    "d = np.diag(M)\n",
    "\n",
    "# notice the two ways of using the diag function\n",
    "\n",
    "d = np.diag(M) # input is matrix, output is vector\n",
    "D = np.diag(d) # input is vector, output is matrix\n",
    "print(d)\n",
    "print()\n",
    "print(D)\n",
    "\n",
    "\n",
    "# trace as sum of diagonal elemenbts\n",
    "\n",
    "tr = np.trace(M)\n",
    "tr2 = sum(np.diag(M))\n",
    "\n",
    "print(tr,tr2)\n"
   ]
  },
  {
   "cell_type": "code",
   "execution_count": 40,
   "metadata": {},
   "outputs": [
    {
     "name": "stdout",
     "output_type": "stream",
     "text": [
      "1.0 1.0\n",
      "\n",
      "-3.8762381995209125 -3.8762381995209125\n"
     ]
    }
   ],
   "source": [
    "# The linearity of traces\n",
    "# determine the releationship between tr(A) + tr(B) = tr(A+B)\n",
    "# determine the relastionship between the tr(l*A) And l*tr(A)\n",
    "\n",
    "A = np.round(5*np.random.randn(4,4))\n",
    "B = np.round(5*np.random.randn(4,4))\n",
    "l = np.random.randn()\n",
    "\n",
    "trA = np.trace(A)\n",
    "trB = np.trace(B)\n",
    "\n",
    "res1 = trA+trB\n",
    "res2 = np.trace(A+B)\n",
    "\n",
    "print(res1,res2)\n",
    "#the releationship between tr(A) + tr(B) = tr(A+B)\n",
    "\n",
    "resA = np.trace(l*A)\n",
    "resB = l*np.trace(A)\n",
    "print()\n",
    "print(resA,resB)\n"
   ]
  },
  {
   "cell_type": "markdown",
   "metadata": {},
   "source": [
    "\n",
    "---\n",
    "# Broadcasting matrix arithmetic\n",
    "---\n"
   ]
  },
  {
   "cell_type": "code",
   "execution_count": 48,
   "metadata": {},
   "outputs": [
    {
     "name": "stdout",
     "output_type": "stream",
     "text": [
      "[[ 1  4  7 10]\n",
      " [ 2  5  8 11]\n",
      " [ 3  6  9 12]]\n",
      " \n",
      "[10, 20, 30, 40]\n",
      " \n",
      "[100, 200, 300]\n",
      " \n"
     ]
    }
   ],
   "source": [
    "# create a matrix\n",
    "A = np.reshape(np.arange(1,13),(3,4),'F') # F=column, C=row\n",
    "\n",
    "# and two vectors\n",
    "r = [ 10, 20, 30, 40 ]\n",
    "c = [ 100, 200, 300 ]\n",
    "\n",
    "print(A), print(' ')\n",
    "print(r), print(' ')\n",
    "print(c), print(' ');\n"
   ]
  },
  {
   "cell_type": "code",
   "execution_count": 53,
   "metadata": {},
   "outputs": [
    {
     "name": "stdout",
     "output_type": "stream",
     "text": [
      "[[11 24 37 50]\n",
      " [12 25 38 51]\n",
      " [13 26 39 52]]\n",
      " \n",
      "[[101 104 107 110]\n",
      " [202 205 208 211]\n",
      " [303 306 309 312]]\n"
     ]
    }
   ],
   "source": [
    "# broadcast on the rows\n",
    "print(A+r), print(' ')\n",
    "\n",
    "# broadcast on the columns\n",
    "#print(A+c)\n",
    "print(A+np.reshape(c,(len(c),1))) # only works for explicit column vectors"
   ]
  },
  {
   "cell_type": "code",
   "execution_count": null,
   "metadata": {},
   "outputs": [],
   "source": []
  },
  {
   "cell_type": "code",
   "execution_count": null,
   "metadata": {},
   "outputs": [],
   "source": []
  }
 ],
 "metadata": {
  "kernelspec": {
   "display_name": "Python 3",
   "language": "python",
   "name": "python3"
  },
  "language_info": {
   "codemirror_mode": {
    "name": "ipython",
    "version": 3
   },
   "file_extension": ".py",
   "mimetype": "text/x-python",
   "name": "python",
   "nbconvert_exporter": "python",
   "pygments_lexer": "ipython3",
   "version": "3.8.3"
  }
 },
 "nbformat": 4,
 "nbformat_minor": 4
}
