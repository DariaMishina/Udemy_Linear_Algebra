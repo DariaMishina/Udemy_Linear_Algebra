{
 "cells": [
  {
   "cell_type": "code",
   "execution_count": 1,
   "metadata": {},
   "outputs": [],
   "source": [
    "import numpy as np\n",
    "import matplotlib.pyplot as plt\n",
    "from sympy import *\n",
    "from mpl_toolkits.mplot3d import Axes3D"
   ]
  },
  {
   "cell_type": "markdown",
   "metadata": {},
   "source": [
    "\n",
    "---\n",
    "# Finding eigenvalues\n",
    "---\n"
   ]
  },
  {
   "cell_type": "code",
   "execution_count": 11,
   "metadata": {},
   "outputs": [
    {
     "name": "stdout",
     "output_type": "stream",
     "text": [
      "[-1.  6.]\n",
      "(array([-1.,  6.]), array([[-0.92847669, -0.70710678],\n",
      "       [ 0.37139068, -0.70710678]]))\n"
     ]
    },
    {
     "data": {
      "image/png": "[encoded data removed]",
      "text/plain": [
       "<Figure size 432x288 with 1 Axes>"
      ]
     },
     "metadata": {
      "needs_background": "light"
     },
     "output_type": "display_data"
    }
   ],
   "source": [
    "#matrix\n",
    "A = [ [1,5], [2,4] ]\n",
    "\n",
    "# extract the eigenvalues\n",
    "eigvals = np.linalg.eig(A)\n",
    "\n",
    "# note that the eigenvalues are in the first element of eigvals:\n",
    "print(eigvals[0])\n",
    "print(eigvals)\n",
    "\n",
    "\n",
    "# specify two vectors\n",
    "v1 = np.array([ 1,1 ])    # is an eigenvector!\n",
    "v2 = np.random.randn(2,1) # unlikely to be an eigenvector\n",
    "v2 = v2/np.linalg.norm(v2)# unit length for convenience\n",
    "\n",
    "# compute Av\n",
    "Av1 = A@v1\n",
    "Av2 = A@v2\n",
    "\n",
    "\n",
    "# plot the vectors and Av\n",
    "plt.plot([0,v1[0]] ,[0,v1[1]],'r')\n",
    "plt.plot([0,Av1[0]],[0,Av1[1]],'r--')\n",
    "plt.plot([0,v2[0]] ,[0,v2[1]],'k')\n",
    "plt.plot([0,Av2[0]],[0,Av2[1]],'k--')\n",
    "\n",
    "plt.axis([-8,8,-8,8])\n",
    "plt.show()"
   ]
  },
  {
   "cell_type": "code",
   "execution_count": 7,
   "metadata": {},
   "outputs": [
    {
     "name": "stdout",
     "output_type": "stream",
     "text": [
      "[-3. -1.  3.]\n"
     ]
    }
   ],
   "source": [
    "# confirm eigenvalues for a 3x3 matrix\n",
    "\n",
    "# specify matrix\n",
    "A = [ [-2,  2, -3 ],\n",
    "      [-4,  1, -6 ],\n",
    "      [-1, -2,  0 ]  ]\n",
    "\n",
    "# get eigenvalues\n",
    "evals = np.linalg.eig(A)\n",
    "print(evals[0])\n"
   ]
  },
  {
   "cell_type": "code",
   "execution_count": 2,
   "metadata": {},
   "outputs": [
    {
     "name": "stdout",
     "output_type": "stream",
     "text": [
      "[[ 223    0]\n",
      " [   0 1233]]\n",
      "\n",
      "[ 223. 1233.]\n",
      "\n"
     ]
    }
   ],
   "source": [
    "# Discover the properties of eigenval\n",
    "\n",
    "# generate 2x2 diag matrix, compute eigenvals\n",
    "A = np.diag([223,1233])\n",
    "print(A)\n",
    "print('')\n",
    "print(np.linalg.eig(A)[0]) # egen values\n",
    "print('')\n",
    "\n",
    "# So we see that eigen vals are the same as diagonal elements"
   ]
  },
  {
   "cell_type": "code",
   "execution_count": 3,
   "metadata": {},
   "outputs": [
    {
     "name": "stdout",
     "output_type": "stream",
     "text": [
      "[[ 3  0  0  0  0  0  0  0  0  0  0  0  0  0  0]\n",
      " [ 0  4  0  0  0  0  0  0  0  0  0  0  0  0  0]\n",
      " [ 0  0  5  0  0  0  0  0  0  0  0  0  0  0  0]\n",
      " [ 0  0  0  6  0  0  0  0  0  0  0  0  0  0  0]\n",
      " [ 0  0  0  0  7  0  0  0  0  0  0  0  0  0  0]\n",
      " [ 0  0  0  0  0  8  0  0  0  0  0  0  0  0  0]\n",
      " [ 0  0  0  0  0  0  9  0  0  0  0  0  0  0  0]\n",
      " [ 0  0  0  0  0  0  0 10  0  0  0  0  0  0  0]\n",
      " [ 0  0  0  0  0  0  0  0 11  0  0  0  0  0  0]\n",
      " [ 0  0  0  0  0  0  0  0  0 12  0  0  0  0  0]\n",
      " [ 0  0  0  0  0  0  0  0  0  0 13  0  0  0  0]\n",
      " [ 0  0  0  0  0  0  0  0  0  0  0 14  0  0  0]\n",
      " [ 0  0  0  0  0  0  0  0  0  0  0  0 15  0  0]\n",
      " [ 0  0  0  0  0  0  0  0  0  0  0  0  0 16  0]\n",
      " [ 0  0  0  0  0  0  0  0  0  0  0  0  0  0 17]]\n",
      "\n",
      "[ 3.  4.  5.  6.  7.  8.  9. 10. 11. 12. 13. 14. 15. 16. 17.]\n",
      "\n"
     ]
    }
   ],
   "source": [
    "# Expand this to larger matrix which is diagonal\n",
    "A = np.diag(np.arange(3,18))\n",
    "print(A)\n",
    "print('')\n",
    "print(np.linalg.eig(A)[0]) # egen values\n",
    "print('')\n",
    "\n",
    "# Yep. It works for all sizes of matrix"
   ]
  },
  {
   "cell_type": "code",
   "execution_count": 4,
   "metadata": {},
   "outputs": [
    {
     "name": "stdout",
     "output_type": "stream",
     "text": [
      "[[ 0.49249952  0.86149685 -0.56834805  0.52743934]\n",
      " [ 0.         -1.53159706 -0.94405227 -2.20325083]\n",
      " [ 0.          0.         -0.24677217  2.04204885]\n",
      " [ 0.          0.          0.         -1.2166534 ]]\n",
      "\n",
      "[ 0.49249952 -1.53159706 -0.24677217 -1.2166534 ]\n",
      "\n"
     ]
    }
   ],
   "source": [
    "# Create triangular matrix\n",
    "A  = np.triu(np.random.randn(4,4))\n",
    "print(A)\n",
    "print('')\n",
    "print(np.linalg.eig(A)[0]) # egen values\n",
    "print('')"
   ]
  },
  {
   "cell_type": "code",
   "execution_count": 5,
   "metadata": {},
   "outputs": [
    {
     "name": "stdout",
     "output_type": "stream",
     "text": [
      "[[-0.91661127  0.          0.          0.        ]\n",
      " [ 0.97080782  0.20754883  0.          0.        ]\n",
      " [-0.56102827 -2.27253276  1.22279651  0.        ]\n",
      " [-0.32878479 -1.10501877  0.10678311 -0.02828451]]\n",
      "\n",
      "[-0.02828451  1.22279651  0.20754883 -0.91661127]\n",
      "\n"
     ]
    }
   ],
   "source": [
    "# Create triangular matrix\n",
    "A  = np.tril(np.random.randn(4,4))\n",
    "print(A)\n",
    "print('')\n",
    "print(np.linalg.eig(A)[0]) # egen values\n",
    "print('')"
   ]
  },
  {
   "cell_type": "markdown",
   "metadata": {},
   "source": [
    "\n",
    "---\n",
    "# VIDEO: Finding eigenvectors\n",
    "---\n"
   ]
  },
  {
   "cell_type": "code",
   "execution_count": 6,
   "metadata": {},
   "outputs": [
    {
     "name": "stdout",
     "output_type": "stream",
     "text": [
      "[ 3. -1.]\n",
      " \n",
      "[[ 0.70710678 -0.70710678]\n",
      " [ 0.70710678  0.70710678]]\n"
     ]
    }
   ],
   "source": [
    "# matrix\n",
    "A = [ [1,2], [2,1] ]\n",
    "\n",
    "# eigenvectors (compare with code above)\n",
    "# note also the differences with MATLAB: different order, evals in vector\n",
    "evals,evecs = np.linalg.eig(A)\n",
    "print(evals), print(' ')\n",
    "print(evecs)"
   ]
  },
  {
   "cell_type": "code",
   "execution_count": 7,
   "metadata": {},
   "outputs": [
    {
     "name": "stdout",
     "output_type": "stream",
     "text": [
      "0.9999999999999999 0.9999999999999999\n"
     ]
    },
    {
     "data": {
      "image/png": "[encoded data removed]",
      "text/plain": [
       "<Figure size 432x288 with 1 Axes>"
      ]
     },
     "metadata": {
      "needs_background": "light"
     },
     "output_type": "display_data"
    }
   ],
   "source": [
    "# compute the norm of each eigenvector\n",
    "mag_v1 = np.sqrt( np.sum( np.square(evecs[:,0])) )\n",
    "mag_v2 = np.sqrt( np.sum( np.square(evecs[:,1])) )\n",
    "print(mag_v1,mag_v2)\n",
    "\n",
    "# plot\n",
    "plt.plot([0,evecs[0,0]],[0,evecs[1,0]],'r',label='v1')\n",
    "plt.plot([0,evecs[0,1]],[0,evecs[1,1]],'k',label='v2')\n",
    "\n",
    "\n",
    "plt.axis([-1,1,-1,1])\n",
    "plt.legend()\n",
    "plt.show()"
   ]
  },
  {
   "cell_type": "code",
   "execution_count": null,
   "metadata": {},
   "outputs": [],
   "source": []
  }
 ],
 "metadata": {
  "kernelspec": {
   "display_name": "Python 3",
   "language": "python",
   "name": "python3"
  },
  "language_info": {
   "codemirror_mode": {
    "name": "ipython",
    "version": 3
   },
   "file_extension": ".py",
   "mimetype": "text/x-python",
   "name": "python",
   "nbconvert_exporter": "python",
   "pygments_lexer": "ipython3",
   "version": "3.8.3"
  }
 },
 "nbformat": 4,
 "nbformat_minor": 4
}
