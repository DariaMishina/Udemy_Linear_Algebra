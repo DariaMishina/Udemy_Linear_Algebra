{
 "cells": [
  {
   "cell_type": "code",
   "execution_count": 2,
   "metadata": {},
   "outputs": [],
   "source": [
    "import numpy as np\n",
    "from sympy import *\n",
    "import matplotlib.pyplot as plt"
   ]
  },
  {
   "cell_type": "markdown",
   "metadata": {},
   "source": [
    "---\n",
    "# MCA Method for computing inverse matrix\n",
    "---"
   ]
  },
  {
   "cell_type": "code",
   "execution_count": 20,
   "metadata": {
    "scrolled": true
   },
   "outputs": [
    {
     "name": "stdout",
     "output_type": "stream",
     "text": [
      "[[ 1.00000000e+00 -4.44089210e-16  0.00000000e+00  0.00000000e+00]\n",
      " [ 0.00000000e+00  1.00000000e+00  2.77555756e-17  1.73472348e-18]\n",
      " [ 4.33680869e-18  8.32667268e-17  1.00000000e+00 -1.38777878e-17]\n",
      " [ 8.32667268e-17  0.00000000e+00  1.11022302e-16  1.00000000e+00]]\n"
     ]
    }
   ],
   "source": [
    "# MCA Algorithm in code\n",
    "# then compute using inv() and compare to MCA\n",
    "\n",
    "m = 4 # size of Matrix\n",
    "A = np.random.randn(m,m)  # ccreate a matrix\n",
    "\n",
    "# Minors of matrix\n",
    "\n",
    "minors = np.zeros((m,m))\n",
    "H = np.zeros((m,m))\n",
    "\n",
    "for i in range (m):\n",
    "    for j in range (m):\n",
    "        \n",
    "        # select rows and columns\n",
    "        rows = [True]*m\n",
    "        rows[i] = False\n",
    "        \n",
    "        cols = [True]*m\n",
    "        cols[j] = False\n",
    "        \n",
    "        #compute minors matrix\n",
    "        minors[i,j] = np.linalg.det(A[rows,:][:,cols])\n",
    "        \n",
    "        # compute H matrix\n",
    "        \n",
    "        H[i,j] = (-1)**(i+j)\n",
    "\n",
    "## cofactor matrix\n",
    "\n",
    "C = H*minors\n",
    "\n",
    "## Adjugate matrix\n",
    "\n",
    "Ainv = C.T/np.linalg.det(A)\n",
    "\n",
    "print(A@Ainv)"
   ]
  },
  {
   "cell_type": "code",
   "execution_count": 21,
   "metadata": {},
   "outputs": [
    {
     "name": "stdout",
     "output_type": "stream",
     "text": [
      "[[ 1.11022302e-16  0.00000000e+00 -8.32667268e-17  1.38777878e-16]\n",
      " [-8.32667268e-17  1.11022302e-16  5.55111512e-17 -1.11022302e-16]\n",
      " [ 0.00000000e+00  2.22044605e-16  0.00000000e+00  0.00000000e+00]\n",
      " [-5.55111512e-16  0.00000000e+00  0.00000000e+00  0.00000000e+00]]\n"
     ]
    }
   ],
   "source": [
    "Ainv2 = np.linalg.inv(A)\n",
    "print(Ainv-Ainv2)"
   ]
  },
  {
   "cell_type": "code",
   "execution_count": 15,
   "metadata": {},
   "outputs": [
    {
     "name": "stdout",
     "output_type": "stream",
     "text": [
      "[[-1.29007371 -0.9605976   0.30945828]\n",
      " [-2.75356996  0.7946656  -1.44587648]\n",
      " [-0.90175914  0.55951226  0.0372643 ]]\n"
     ]
    }
   ],
   "source": [
    "rows = [True]*m\n",
    "rows[0] = False\n",
    "\n",
    "cols = [True]*m\n",
    "cols[0] = False\n",
    "\n",
    "print (A[rows,:][:,cols])"
   ]
  },
  {
   "cell_type": "markdown",
   "metadata": {},
   "source": [
    "---\n",
    "# Computing the inverse via row reduction\n",
    "---"
   ]
  },
  {
   "cell_type": "code",
   "execution_count": 22,
   "metadata": {},
   "outputs": [
    {
     "name": "stdout",
     "output_type": "stream",
     "text": [
      "Size of Aaug: (4, 8)\n"
     ]
    }
   ],
   "source": [
    "# matrix size\n",
    "m = 4\n",
    "\n",
    "# random integers matrix\n",
    "A = Matrix( np.round(10*np.random.randn(m,m)),dtype='float' )\n",
    "\n",
    "# augment A and identity\n",
    "Aaug = Matrix( np.concatenate((A,np.eye(m,m)),axis=1) )\n",
    "print('Size of Aaug:',Aaug.shape)\n",
    "\n",
    "# rref\n",
    "Asol = Aaug.rref()\n",
    "Asol = Asol[0]\n",
    "Ainvrref = Asol[:,m:m*2]\n",
    "Ainv = A.inv()"
   ]
  },
  {
   "cell_type": "code",
   "execution_count": 23,
   "metadata": {},
   "outputs": [
    {
     "data": {
      "image/png": "[encoded data removed]",
      "text/plain": [
       "<Figure size 432x288 with 2 Axes>"
      ]
     },
     "metadata": {
      "needs_background": "light"
     },
     "output_type": "display_data"
    }
   ],
   "source": [
    "# show the augemented matrices\n",
    "plt.subplot(211)\n",
    "plt.imshow(matrix2numpy(Aaug,dtype='float'),vmin=-5,vmax=5)\n",
    "plt.title('A|I'), plt.axis('off')\n",
    "\n",
    "plt.subplot(212)\n",
    "plt.imshow(matrix2numpy(Asol,dtype='float'))\n",
    "plt.title('I|A$^{-1}$'), plt.axis('off')\n",
    "\n",
    "plt.show()"
   ]
  },
  {
   "cell_type": "code",
   "execution_count": 24,
   "metadata": {},
   "outputs": [
    {
     "data": {
      "image/png": "[encoded data removed]",
      "text/plain": [
       "<Figure size 432x288 with 3 Axes>"
      ]
     },
     "metadata": {
      "needs_background": "light"
     },
     "output_type": "display_data"
    }
   ],
   "source": [
    "# show the square matrices\n",
    "plt.subplot(131)\n",
    "plt.imshow(matrix2numpy(A,dtype='float'))\n",
    "plt.title('Matrix A'), plt.axis('off')\n",
    "\n",
    "plt.subplot(132)\n",
    "plt.imshow(matrix2numpy(Ainvrref,dtype='float'))\n",
    "plt.title('A$^{-1}$ from rref'), plt.axis('off')\n",
    "\n",
    "plt.subplot(133)\n",
    "plt.imshow(matrix2numpy(Ainv,dtype='float'))\n",
    "plt.title('A$^{-1}$ from inv()'), plt.axis('off')\n",
    "\n",
    "plt.show()"
   ]
  },
  {
   "cell_type": "code",
   "execution_count": 13,
   "metadata": {},
   "outputs": [
    {
     "data": {
      "text/plain": [
       "array([[ 1.00000000e+00,  3.38618023e-15,  1.16573418e-15],\n",
       "       [-5.55111512e-16,  1.00000000e+00, -9.71445147e-16],\n",
       "       [ 2.30371278e-15,  3.03229664e-15,  1.00000000e+00]])"
      ]
     },
     "execution_count": 13,
     "metadata": {},
     "output_type": "execute_result"
    }
   ],
   "source": [
    "# Left inverse for tall matrix\n",
    "\n",
    "m = 4 # size of Matrix\n",
    "n = 3\n",
    "A = np.round(10*np.random.randn(m,n))  # ccreate a matrix\n",
    "\n",
    "C = A.T@A\n",
    "(np.linalg.inv(C))@C"
   ]
  },
  {
   "cell_type": "code",
   "execution_count": 14,
   "metadata": {},
   "outputs": [
    {
     "data": {
      "text/plain": [
       "array([[ 1.00000000e+00,  2.49366500e-18,  1.08420217e-19],\n",
       "       [-5.74796558e-18,  1.00000000e+00, -2.96461532e-19],\n",
       "       [-2.25514052e-17, -1.73472348e-18,  1.00000000e+00]])"
      ]
     },
     "execution_count": 14,
     "metadata": {},
     "output_type": "execute_result"
    }
   ],
   "source": [
    "# Right inverse for fat matrix\n",
    "\n",
    "m = 3 # size of Matrix\n",
    "n = 4\n",
    "A = np.round(10*np.random.randn(m,n))  # ccreate a matrix\n",
    "\n",
    "C = A@A.T\n",
    "(np.linalg.inv(C))@C"
   ]
  },
  {
   "cell_type": "markdown",
   "metadata": {},
   "source": [
    "\n",
    "---\n",
    "# Left inverse and right inverse\n",
    "---\n"
   ]
  },
  {
   "cell_type": "code",
   "execution_count": 20,
   "metadata": {},
   "outputs": [
    {
     "name": "stdout",
     "output_type": "stream",
     "text": [
      "Shape of A^TA: (3, 3)\n",
      "Rank of A^TA: 3\n",
      "Shape of AA^T: (6, 6)\n",
      "Rank of AA^T: 3\n",
      "[[ 1.00000000e+00 -1.11022302e-16 -2.77555756e-17]\n",
      " [ 2.22044605e-16  1.00000000e+00  0.00000000e+00]\n",
      " [-5.55111512e-17  1.24900090e-16  1.00000000e+00]]\n",
      " \n",
      "[[ 0.15973377 -0.5157084  -0.97617336  0.25908859 -0.18874679  0.26204662]\n",
      " [ 0.42344998  0.96745166  0.37498694  2.45900042  0.38253351  0.11700289]\n",
      " [-0.43781575 -1.0853333   1.50191977  4.88392424 -0.09474983  0.57633858]\n",
      " [-0.073808   -0.34538702  0.35865113  1.86847176 -0.02546732  0.24283226]\n",
      " [-0.65853998 -0.22825496  1.90293202  0.3934876   0.03216035 -0.2044751 ]\n",
      " [ 0.96639425  0.83093338 -3.2689257  -4.34787176 -0.04393421 -0.19703746]]\n",
      " \n",
      "[[ 1.00000000e+00 -1.27238707e-17  4.53916316e-17]\n",
      " [ 2.67603881e-16  1.00000000e+00 -4.72227300e-17]\n",
      " [-3.72082535e-17  4.51726369e-17  1.00000000e+00]]\n",
      " \n",
      "[[ 1.28125  -0.5       2.        0.5       0.5       4.      ]\n",
      " [ 0.1875    1.125     1.        0.25      0.125     0.      ]\n",
      " [ 0.375    -0.5       0.5       0.0625    0.125    -0.5625  ]\n",
      " [-0.0625    0.375    -4.        0.       -1.        0.      ]\n",
      " [-0.1875    0.140625  0.75      0.375     1.125    -0.25    ]\n",
      " [ 0.        0.        0.        0.       -1.        0.      ]]\n"
     ]
    }
   ],
   "source": [
    "# m>n for left inverse,\n",
    "# m<n for right inverse\n",
    "m = 6\n",
    "n = 3\n",
    "\n",
    "# create matrices\n",
    "A = np.random.randn(m,n)\n",
    "AtA = A.T@A\n",
    "AAt = A@A.T\n",
    "\n",
    "# inspect ranks\n",
    "print('Shape of A^TA:', np.shape(AtA) )\n",
    "print('Rank of A^TA:', np.linalg.matrix_rank(AtA) )\n",
    "print('Shape of AA^T:', np.shape(AAt) )\n",
    "print('Rank of AA^T:', np.linalg.matrix_rank(AAt) ) \n",
    "\n",
    "# left inverse\n",
    "Aleft = np.linalg.inv(AtA)@A.T\n",
    "\n",
    "# right inverse\n",
    "Aright = A.T@np.linalg.inv(AAt)\n",
    "\n",
    "# now test!\n",
    "I_left  = Aleft  @ A\n",
    "I_right = A @ Aright\n",
    "\n",
    "print(I_left), print(' ')\n",
    "print(I_right), print(' ')\n",
    "\n",
    "\n",
    "# and then test using the inverse function\n",
    "AtA_inv = np.linalg.inv(AtA)\n",
    "I_AtA   = AtA_inv @ AtA\n",
    "\n",
    "AAt_inv = np.linalg.inv(AAt)\n",
    "I_AAt   = AAt_inv @ AAt\n",
    "\n",
    "print(I_AtA), print(' ')\n",
    "print(I_AAt)"
   ]
  },
  {
   "cell_type": "code",
   "execution_count": 21,
   "metadata": {},
   "outputs": [
    {
     "data": {
      "image/png": "[encoded data removed]",
      "text/plain": [
       "<Figure size 432x288 with 7 Axes>"
      ]
     },
     "metadata": {
      "needs_background": "light"
     },
     "output_type": "display_data"
    }
   ],
   "source": [
    "## show images\n",
    "plt.subplot(331)\n",
    "plt.imshow(A), plt.axis('off')\n",
    "plt.title('A')\n",
    "\n",
    "plt.subplot(332)\n",
    "plt.imshow(AtA), plt.axis('off')\n",
    "plt.title('A$^T$A')\n",
    "\n",
    "plt.subplot(333)\n",
    "plt.imshow(AAt), plt.axis('off')\n",
    "plt.title('AA$^T$')\n",
    "\n",
    "plt.subplot(335)\n",
    "plt.imshow(Aleft), plt.axis('off')\n",
    "plt.title('$(A^TA)^{-1}A^T$')\n",
    "\n",
    "plt.subplot(336)\n",
    "plt.imshow(Aright), plt.axis('off')\n",
    "plt.title('$A^T(AA^T)^{-1}$')\n",
    "\n",
    "plt.subplot(338)\n",
    "plt.imshow(I_left), plt.axis('off')\n",
    "plt.title('[ $(A^TA)^{-1}A^T ]$  A')\n",
    "\n",
    "plt.subplot(339)\n",
    "plt.imshow(I_right), plt.axis('off')\n",
    "plt.title('A  [ $A^T(AA^T)^{-1}$ ]')\n",
    "\n",
    "plt.show()"
   ]
  },
  {
   "cell_type": "markdown",
   "metadata": {},
   "source": [
    "\n",
    "---\n",
    "# The pseudoinverse, part 1\n",
    "---\n"
   ]
  },
  {
   "cell_type": "code",
   "execution_count": 22,
   "metadata": {},
   "outputs": [
    {
     "data": {
      "image/png": "[encoded data removed]",
      "text/plain": [
       "<Figure size 432x288 with 3 Axes>"
      ]
     },
     "metadata": {
      "needs_background": "light"
     },
     "output_type": "display_data"
    }
   ],
   "source": [
    "# pseudoinverse of rectangular matrix A\n",
    "\n",
    "pseudoInvA = np.linalg.pinv(A)\n",
    "\n",
    "plt.subplot(131)\n",
    "plt.imshow(A), plt.axis('off')\n",
    "plt.title('A')\n",
    "\n",
    "plt.subplot(132)\n",
    "plt.imshow(pseudoInvA), plt.axis('off')\n",
    "plt.title('Pseudoinverse of A')\n",
    "\n",
    "plt.subplot(133)\n",
    "plt.imshow(pseudoInvA@A), plt.axis('off')\n",
    "plt.title('A$^*$A')\n",
    "\n",
    "plt.show()"
   ]
  },
  {
   "cell_type": "code",
   "execution_count": 23,
   "metadata": {},
   "outputs": [
    {
     "name": "stdout",
     "output_type": "stream",
     "text": [
      "rank = 49\n"
     ]
    }
   ],
   "source": [
    "# create random matrix\n",
    "n = 50\n",
    "A = np.random.randn(n,n)\n",
    "\n",
    "# make rank deficient by repeating a column\n",
    "A[:,n-1] = A[:,n-2]\n",
    "\n",
    "# rank of A!\n",
    "print('rank =',np.linalg.matrix_rank(A))"
   ]
  },
  {
   "cell_type": "code",
   "execution_count": 24,
   "metadata": {},
   "outputs": [
    {
     "data": {
      "image/png": "[encoded data removed]",
      "text/plain": [
       "<Figure size 432x288 with 4 Axes>"
      ]
     },
     "metadata": {
      "needs_background": "light"
     },
     "output_type": "display_data"
    }
   ],
   "source": [
    "# compute the pseudoinverse\n",
    "Ai = np.linalg.pinv(A)\n",
    "\n",
    "\n",
    "# and show the matrices\n",
    "plt.subplot(221)\n",
    "plt.imshow(A), plt.axis('off')\n",
    "plt.title('A')\n",
    "\n",
    "plt.subplot(222)\n",
    "plt.imshow(Ai), plt.axis('off')\n",
    "plt.title('A$^*$')\n",
    "\n",
    "plt.subplot(223)\n",
    "plt.imshow(Ai@A), plt.axis('off')\n",
    "plt.title('A$^*$A')\n",
    "\n",
    "plt.subplot(224)\n",
    "plt.imshow(A@Ai), plt.axis('off')\n",
    "plt.title('AA$^*$')\n",
    "\n",
    "plt.show()"
   ]
  },
  {
   "cell_type": "code",
   "execution_count": null,
   "metadata": {},
   "outputs": [],
   "source": []
  }
 ],
 "metadata": {
  "kernelspec": {
   "display_name": "Python 3",
   "language": "python",
   "name": "python3"
  },
  "language_info": {
   "codemirror_mode": {
    "name": "ipython",
    "version": 3
   },
   "file_extension": ".py",
   "mimetype": "text/x-python",
   "name": "python",
   "nbconvert_exporter": "python",
   "pygments_lexer": "ipython3",
   "version": "3.8.3"
  }
 },
 "nbformat": 4,
 "nbformat_minor": 4
}
