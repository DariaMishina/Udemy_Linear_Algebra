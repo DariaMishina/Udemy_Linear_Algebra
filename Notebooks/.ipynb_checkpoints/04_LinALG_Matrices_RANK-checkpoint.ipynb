{
 "cells": [
  {
   "cell_type": "code",
   "execution_count": 1,
   "metadata": {},
   "outputs": [],
   "source": [
    "import numpy as np\n",
    "import matplotlib.pyplot as plt\n",
    "import math"
   ]
  },
  {
   "cell_type": "markdown",
   "metadata": {},
   "source": [
    "\n",
    "---\n",
    "# Computing rank: theory and practice\n",
    "---\n"
   ]
  },
  {
   "cell_type": "code",
   "execution_count": null,
   "metadata": {},
   "outputs": [],
   "source": [
    "# make a matrix\n",
    "\n",
    "m=4\n",
    "n=6\n",
    "\n",
    "# create a matrix\n",
    "A = np.random.randn(m,n)\n",
    "\n",
    "# what is the largest possible rank?\n",
    "ra = np.linalg.matrix_rank(A)\n",
    "print(f'Rank: {ra}')\n",
    "\n",
    "# set last colums to be repeated of penultimate\n",
    "\n",
    "B = A\n",
    "B[:,-1] = B[:,-2]\n",
    "ra_1 = np.linalg.matrix_rank(B)\n",
    "print(f'Rank: {ra_1}')\n",
    "\n",
    "# set last row to be repeated of penultimate\n",
    "\n",
    "C = A\n",
    "C[-1,:] = C[-2,:]\n",
    "ra_2 = np.linalg.matrix_rank(C)\n",
    "print(f'Rank: {ra_2}')"
   ]
  },
  {
   "cell_type": "code",
   "execution_count": null,
   "metadata": {},
   "outputs": [],
   "source": [
    "## adding noise to a rank-deficient matrix\n",
    "\n",
    "# square for convenience\n",
    "A = np.round( 10*np.random.randn(m,m) )\n",
    "\n",
    "# reduce the rank\n",
    "A[:,-1] = A[:,-2]\n",
    "\n",
    "# noise level\n",
    "noiseamp = .000001 # Shifting\n",
    "\n",
    "# add the noise\n",
    "B = A + noiseamp*np.random.randn(m,m)\n",
    "\n",
    "print('rank (w/o noise) = ' + str(np.linalg.matrix_rank(A)))\n",
    "print('rank (with noise) = ' + str(np.linalg.matrix_rank(B)))\n"
   ]
  },
  {
   "cell_type": "markdown",
   "metadata": {},
   "source": [
    "\n",
    "---\n",
    "# Reduced-rank matrix using multiplication\n",
    "---\n"
   ]
  },
  {
   "cell_type": "code",
   "execution_count": null,
   "metadata": {},
   "outputs": [],
   "source": [
    "# create a 10x10 matrix with rank =4\n",
    "\n",
    "A = np.random.randn(10,4)\n",
    "B = np.random.randn(4,10)\n",
    "C = A@B\n",
    "np.linalg.matrix_rank(C)\n",
    "\n",
    "# generalize the procedure to create any mxn matrix with rank r\n",
    "\n",
    "m = 8\n",
    "n = 47\n",
    "r = 4\n",
    "\n",
    "A1 = np.random.randn(m,r) @ np.random.randn(r,n)\n",
    "print(np.shape(A1))\n",
    "print(np.linalg.matrix_rank(A1))"
   ]
  },
  {
   "cell_type": "markdown",
   "metadata": {},
   "source": [
    "\n",
    "---\n",
    "# Scalar multiplication and rank\n",
    "---"
   ]
  },
  {
   "cell_type": "code",
   "execution_count": 30,
   "metadata": {},
   "outputs": [
    {
     "name": "stdout",
     "output_type": "stream",
     "text": [
      "Rank Of A:4\n",
      "Rank Of B:3\n",
      "Rank Of lam x A:4\n",
      "Rank Of lam x B:3\n"
     ]
    }
   ],
   "source": [
    "# Determine whether matrix rank is invariant to scalar multiplication\n",
    "# rank(A) = or!= lambda*A\n",
    "\n",
    "# create two matrices. full rank and two matrices reduced rank\n",
    "#A = np.random.randn(5,5)\n",
    "#B = np.random.randn(5,5)\n",
    "#B[-1,:] = B[-2,:]\n",
    "\n",
    "m = 6\n",
    "n = 4\n",
    "A = np.random.randn(m,n) * np.random.randn(n)\n",
    "B = np.random.randn(m,n-1) * np.random.randn(n-1)\n",
    "\n",
    "# creatre scalar\n",
    "lam = 121212 #(But if 0, then we can change rank of matrix)\n",
    "\n",
    "# print rank of the matrix (A.B.C.D)\n",
    "\n",
    "ran1 = np.linalg.matrix_rank(A)\n",
    "ran2 = np.linalg.matrix_rank(B)\n",
    "\n",
    "print(f'Rank Of A:{ran1}')\n",
    "print(f'Rank Of B:{ran2}')\n",
    "\n",
    "# Check l*F or l*rank(F)\n",
    "\n",
    "ran3 = np.linalg.matrix_rank(lam*A)\n",
    "ran4 = np.linalg.matrix_rank(lam*B)\n",
    "\n",
    "print(f'Rank Of lam x A:{ran3}')\n",
    "print(f'Rank Of lam x B:{ran4}')"
   ]
  },
  {
   "cell_type": "markdown",
   "metadata": {},
   "source": [
    "\n",
    "---\n",
    "# Rank of a product btw two Matrices\n",
    "---"
   ]
  },
  {
   "cell_type": "code",
   "execution_count": 35,
   "metadata": {},
   "outputs": [
    {
     "name": "stdout",
     "output_type": "stream",
     "text": [
      "Rank AtA: 3\n",
      "Rank AAt: 3\n"
     ]
    }
   ],
   "source": [
    "m = 16\n",
    "n = 3\n",
    "\n",
    "A = 10*np.random.randn(m,n)\n",
    "\n",
    "AtA = A@A.T\n",
    "AAt = A.T@A\n",
    "\n",
    "print(f'Rank AtA: {np.linalg.matrix_rank(AtA)}')\n",
    "print(f'Rank AAt: {np.linalg.matrix_rank(AAt)}')"
   ]
  },
  {
   "cell_type": "markdown",
   "metadata": {},
   "source": [
    "\n",
    "---\n",
    "# Rank of multiplied and sum Matrices\n",
    "---"
   ]
  },
  {
   "cell_type": "code",
   "execution_count": 40,
   "metadata": {},
   "outputs": [
    {
     "name": "stdout",
     "output_type": "stream",
     "text": [
      "Rank A: 2\n",
      "Rank B: 2\n",
      "\n",
      "Rank AT: 2\n",
      "Rank BT: 2\n",
      "Rank C: 4\n"
     ]
    }
   ],
   "source": [
    "# Generate two M\n",
    "\n",
    "m =2\n",
    "n =5\n",
    "A = np.random.randn(m,n)\n",
    "B = np.random.randn(m,n)\n",
    "\n",
    "print(f'Rank A: {np.linalg.matrix_rank(A)}')\n",
    "print(f'Rank B: {np.linalg.matrix_rank(B)}')\n",
    "print()\n",
    "\n",
    "# compute ATA and BTB\n",
    "ATA = A.T@A\n",
    "BTB = B.T@B\n",
    "print(f'Rank AT: {np.linalg.matrix_rank(ATA)}')\n",
    "print(f'Rank BT: {np.linalg.matrix_rank(BTB)}')\n",
    "\n",
    "# Find ranks, ranks ATA, BTA\n",
    "\n",
    "C = ATA + BTB\n",
    "print(f'Rank C: {np.linalg.matrix_rank(C)}')\n",
    "\n",
    "# Conclusion: We got a new Matrix with new info. With two addition geometric dimension that were not present in a origin matrices\n"
   ]
  },
  {
   "cell_type": "markdown",
   "metadata": {},
   "source": [
    "\n",
    "---\n",
    "# Making a matrix a full-rank by shifting\n",
    "---"
   ]
  },
  {
   "cell_type": "code",
   "execution_count": 41,
   "metadata": {},
   "outputs": [
    {
     "name": "stdout",
     "output_type": "stream",
     "text": [
      "rank(w/o shift) = 29\n",
      "rank(with shift) = 30\n"
     ]
    }
   ],
   "source": [
    "# size of matrix\n",
    "m = 30\n",
    "\n",
    "# create the square symmetric matrix\n",
    "A = np.random.randn(m,m)\n",
    "A = np.round( 10*A.T@A )\n",
    "\n",
    "# reduce the rank\n",
    "A[:,0] = A[:,1]\n",
    "\n",
    "# shift amount (l=lambda)\n",
    "l = .01\n",
    "\n",
    "# new matrix\n",
    "B = A + l*np.eye(m,m)\n",
    "\n",
    "# print information\n",
    "print('rank(w/o shift) = %d' %np.linalg.matrix_rank(A))\n",
    "print('rank(with shift) = %d' %np.linalg.matrix_rank(B))"
   ]
  },
  {
   "cell_type": "code",
   "execution_count": 46,
   "metadata": {},
   "outputs": [
    {
     "name": "stdout",
     "output_type": "stream",
     "text": [
      "(8, 8)\n",
      "4\n",
      "8\n"
     ]
    }
   ],
   "source": [
    "A = np.random.randn(10,4)\n",
    "B = np.random.randn(4,10)\n",
    "C = A@B\n",
    "np.linalg.matrix_rank(C)\n",
    "\n",
    "# generalize the procedure to create any mxn matrix with rank r\n",
    "\n",
    "m = 8\n",
    "n = 8\n",
    "r = 4\n",
    "lambd = .01\n",
    "\n",
    "A1 = np.random.randn(m,r) @ np.random.randn(r,n)\n",
    "B = A1+l*np.eye(m,n)\n",
    "print(np.shape(A1))\n",
    "print(np.linalg.matrix_rank(A1))\n",
    "print(np.linalg.matrix_rank(B))\n",
    "\n",
    "# So shifting allows us to get full rank matrix"
   ]
  },
  {
   "cell_type": "markdown",
   "metadata": {},
   "source": [
    "---\n",
    "# Is this vector in the span of this set?\n",
    "---"
   ]
  },
  {
   "cell_type": "markdown",
   "metadata": {},
   "source": [
    "To determine whether some vector is contained in the span of some set of vectors."
   ]
  },
  {
   "cell_type": "code",
   "execution_count": 60,
   "metadata": {},
   "outputs": [
    {
     "name": "stdout",
     "output_type": "stream",
     "text": [
      "[[1]\n",
      " [2]\n",
      " [3]\n",
      " [4]]\n",
      "\n",
      "[[4 0]\n",
      " [3 4]\n",
      " [6 0]\n",
      " [2 1]]\n",
      "\n",
      "[[1 0]\n",
      " [2 0]\n",
      " [2 1]\n",
      " [2 2]]\n",
      "[[4 0 1]\n",
      " [3 4 2]\n",
      " [6 0 3]\n",
      " [2 1 4]]\n",
      "\n",
      "3\n",
      "2\n"
     ]
    }
   ],
   "source": [
    "# determine whether this vector \n",
    "v = np.array([[1,2,3,4]]).T\n",
    "print(v)\n",
    "print()\n",
    "\n",
    "# in the span of these vectors\n",
    "\n",
    "S = np.vstack(([4,3,6,2],[0,4,0,1])).T\n",
    "T = np.vstack(([1,2,2,2],[0,0,1,2])).T\n",
    "print(S)\n",
    "print()\n",
    "print(T)\n",
    "\n",
    "Sv = np.concatenate((S,v),axis=1)\n",
    "Tv = np.concatenate((T,v),axis = 1)\n",
    "print(Sv)\n",
    "\n",
    "print()\n",
    "\n",
    "print(np.linalg.matrix_rank(Sv))\n",
    "print(np.linalg.matrix_rank(Tv))\n",
    "\n",
    "# So, as original Matrix S had rank = 2 and after adding vector v, the total rank increased to 3, \n",
    "# means that vector v is not in span of S\n",
    "\n",
    "# while v is in span of T"
   ]
  },
  {
   "cell_type": "code",
   "execution_count": null,
   "metadata": {},
   "outputs": [],
   "source": []
  }
 ],
 "metadata": {
  "kernelspec": {
   "display_name": "Python 3",
   "language": "python",
   "name": "python3"
  },
  "language_info": {
   "codemirror_mode": {
    "name": "ipython",
    "version": 3
   },
   "file_extension": ".py",
   "mimetype": "text/x-python",
   "name": "python",
   "nbconvert_exporter": "python",
   "pygments_lexer": "ipython3",
   "version": "3.8.3"
  }
 },
 "nbformat": 4,
 "nbformat_minor": 4
}
