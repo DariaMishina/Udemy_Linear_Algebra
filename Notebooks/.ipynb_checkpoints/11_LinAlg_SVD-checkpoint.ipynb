{
 "cells": [
  {
   "cell_type": "code",
   "execution_count": 94,
   "metadata": {},
   "outputs": [],
   "source": [
    "import numpy as np\n",
    "import matplotlib.pyplot as plt\n",
    "from sympy import *\n",
    "import scipy.fftpack\n",
    "from scipy import stats\n",
    "import random\n",
    "from scipy.signal import hilbert\n",
    "from scipy import interpolate\n",
    "\n",
    "from mpl_toolkits.mplot3d import Axes3D\n",
    "from jupyterthemes import jtplot\n",
    "jtplot.style(theme='monokai', context='notebook', ticks=True, grid=False)"
   ]
  },
  {
   "cell_type": "markdown",
   "metadata": {},
   "source": [
    "\n",
    "---\n",
    "# Singular value decomposition\n",
    "---\n"
   ]
  },
  {
   "cell_type": "code",
   "execution_count": 95,
   "metadata": {},
   "outputs": [],
   "source": [
    "A = np.array(np.random.randn(4,5))"
   ]
  },
  {
   "cell_type": "code",
   "execution_count": 96,
   "metadata": {},
   "outputs": [
    {
     "name": "stdout",
     "output_type": "stream",
     "text": [
      "[[-0.52138438  0.85332193]\n",
      " [-0.85332193 -0.52138438]]\n",
      " \n",
      "[9.89086518 3.18916698]\n",
      " \n",
      "[[-0.84833111 -0.08627374 -0.52238986]\n",
      " [-0.50518185 -0.16348607  0.84738634]\n",
      " [-0.15851066  0.98276607  0.09510639]]\n"
     ]
    }
   ],
   "source": [
    "# the matrix\n",
    "A = np.array([[3,0,5],[8,1,3]])\n",
    "\n",
    "# Note differences from MATLAB: S is vector, V is V'\n",
    "U,S,V = np.linalg.svd(A)\n",
    "print(U), print(' ')\n",
    "print(S), print(' ')\n",
    "print(V)\n"
   ]
  },
  {
   "cell_type": "code",
   "execution_count": 97,
   "metadata": {},
   "outputs": [
    {
     "data": {
      "image/png": "[encoded data removed]",
      "text/plain": [
       "<Figure size 576x504 with 4 Axes>"
      ]
     },
     "metadata": {},
     "output_type": "display_data"
    }
   ],
   "source": [
    "plt.subplot(141)\n",
    "plt.imshow(A)\n",
    "plt.title('A')\n",
    "plt.axis('off')\n",
    "\n",
    "plt.subplot(142)\n",
    "plt.imshow(U)\n",
    "plt.title('U')\n",
    "plt.axis('off')\n",
    "\n",
    "plt.subplot(143)\n",
    "plt.imshow(np.diag(S))\n",
    "plt.title('$\\Sigma$')\n",
    "plt.axis('off')\n",
    "\n",
    "plt.subplot(144)\n",
    "plt.imshow(V)\n",
    "plt.title('$V^T$')\n",
    "plt.axis('off')\n",
    "\n",
    "plt.show()"
   ]
  },
  {
   "cell_type": "markdown",
   "metadata": {},
   "source": [
    "---\n",
    "# SVD vs eigendecomposition for square symm M\n",
    "---"
   ]
  },
  {
   "cell_type": "code",
   "execution_count": 98,
   "metadata": {},
   "outputs": [],
   "source": [
    "# Determine the relationships btw eigenvectors and singular vectors for sqaure m\n",
    "\n",
    "# Create a symmetric matrix (5x5)\n",
    "A = np.random.randn(5,5)\n",
    "A = A.T@A\n",
    "\n",
    "# Compute eig (W,L) W - eigvec\n",
    "L,W = np.linalg.eig(A)\n",
    "\n",
    "# svd (U,S,V)\n",
    "U,s,V = np.linalg.svd(A)\n",
    "\n",
    "# sort eig  outputs\n",
    "sidx = np.argsort(L)[::-1]\n",
    "L = L[sidx]\n",
    "W = W[:,sidx]"
   ]
  },
  {
   "cell_type": "code",
   "execution_count": 85,
   "metadata": {},
   "outputs": [
    {
     "data": {
      "image/png": "[encoded data removed]",
      "text/plain": [
       "<Figure size 720x504 with 6 Axes>"
      ]
     },
     "metadata": {},
     "output_type": "display_data"
    }
   ],
   "source": [
    "# images of all m\n",
    "\n",
    "fig, ax = plt.subplots(2,3,figsize = (10,7))\n",
    "ax[0,0].imshow(W)\n",
    "ax[0,0].set_title('W (eig)')\n",
    "ax[0,1].imshow(np.diag(L))\n",
    "ax[0,1].set_title('L (eig)')\n",
    "ax[0,2].imshow(np.zeros((1,1)))\n",
    "\n",
    "\n",
    "ax[1,0].imshow(U)\n",
    "ax[1,0].set_title('U (svd)')\n",
    "ax[1,1].imshow(np.diag(s))\n",
    "ax[1,1].set_title('$\\Sigma$ (svd)')\n",
    "ax[1,2].imshow(V)\n",
    "ax[1,2].set_title('V$^T$ (svd)')\n",
    "\n",
    "plt.show()\n"
   ]
  },
  {
   "cell_type": "code",
   "execution_count": 99,
   "metadata": {},
   "outputs": [
    {
     "name": "stdout",
     "output_type": "stream",
     "text": [
      "[[ 0. -0.  0.  0.  0.]\n",
      " [-0.  0. -0. -0. -0.]\n",
      " [ 0.  0. -0. -0.  0.]\n",
      " [-0. -0.  0.  0. -0.]\n",
      " [ 0. -0. -0. -0.  0.]]\n"
     ]
    }
   ],
   "source": [
    "# compare U and V\n",
    "print(np.round(U-V.T,4))"
   ]
  },
  {
   "cell_type": "code",
   "execution_count": 100,
   "metadata": {},
   "outputs": [
    {
     "name": "stdout",
     "output_type": "stream",
     "text": [
      "[[-0.6996 -0.      0.5143  0.      0.    ]\n",
      " [-1.478   0.     -0.5378  0.     -0.    ]\n",
      " [ 0.3144  0.      1.6113 -0.      0.    ]\n",
      " [-0.7779  0.      0.3425  0.     -0.    ]\n",
      " [-0.7888 -0.      0.856  -0.      0.    ]]\n"
     ]
    }
   ],
   "source": [
    "# compare U and W\n",
    "print(np.round(U+W,4))"
   ]
  },
  {
   "cell_type": "code",
   "execution_count": null,
   "metadata": {},
   "outputs": [],
   "source": [
    "# for a square sum m U and V are the same\n",
    "# U and W are the same (considering sign flipping)"
   ]
  },
  {
   "cell_type": "markdown",
   "metadata": {},
   "source": [
    "---\n",
    "# Relation between singular values and eigenvalues\n",
    "---"
   ]
  },
  {
   "cell_type": "code",
   "execution_count": 101,
   "metadata": {},
   "outputs": [
    {
     "name": "stdout",
     "output_type": "stream",
     "text": [
      "[ 0.          0.34314575 11.65685425]\n",
      "[ 0.34314575 11.65685425]\n"
     ]
    }
   ],
   "source": [
    "# case 1: eig(A'A) vs. svd(A)\n",
    "\n",
    "A = np.array([ [3,1,0], [1,1,0] ])\n",
    "\n",
    "print( np.sort(np.linalg.eig(A.T@A)[0]) )\n",
    "print( np.sort(np.linalg.svd(A)[1])**2 )\n",
    "\n",
    "# So the eigen val of A.T@A same with svd A squared"
   ]
  },
  {
   "cell_type": "code",
   "execution_count": 102,
   "metadata": {},
   "outputs": [
    {
     "name": "stdout",
     "output_type": "stream",
     "text": [
      "[ 0.          0.34314575 11.65685425]\n",
      "[ 0.          0.34314575 11.65685425]\n"
     ]
    }
   ],
   "source": [
    "# case 2: eig(A'A) vs. svd(A'A)\n",
    "\n",
    "print(np.sort(np.linalg.eig(A.T@A)[0]))\n",
    "print(np.sort(np.linalg.svd(A.T@A)[1]))"
   ]
  },
  {
   "cell_type": "code",
   "execution_count": 103,
   "metadata": {},
   "outputs": [
    {
     "name": "stdout",
     "output_type": "stream",
     "text": [
      "[0.58578644 1.         3.41421356]\n",
      "[0.49384652 1.10038368 3.68039011]\n"
     ]
    }
   ],
   "source": [
    "# case 3a: eig(A) vs. svd(A), real-valued eigs\n",
    "\n",
    "# need a square matrix for eig\n",
    "A = [ [3,1,0], [1,1,0], [1,1,1]]\n",
    "\n",
    "print(np.sort(np.linalg.eig(A)[0]))\n",
    "print(np.sort(np.linalg.svd(A)[1]))"
   ]
  },
  {
   "cell_type": "code",
   "execution_count": 105,
   "metadata": {},
   "outputs": [
    {
     "name": "stdout",
     "output_type": "stream",
     "text": [
      "[-0.28906239+0.j         -0.27454966-1.32306379j -0.27454966+1.32306379j]\n",
      "[0.25240742 0.85588164 2.44313166]\n"
     ]
    }
   ],
   "source": [
    "# case 3b: eig(A) vs. svd(A), complex eigs\n",
    "\n",
    "# random matrices are likely to give complex eigenvalues\n",
    "A = np.random.randn(3,3)\n",
    "\n",
    "print(np.sort(np.linalg.eig(A)[0]))\n",
    "print(np.sort(np.linalg.svd(A)[1]))"
   ]
  },
  {
   "cell_type": "code",
   "execution_count": null,
   "metadata": {},
   "outputs": [],
   "source": []
  }
 ],
 "metadata": {
  "kernelspec": {
   "display_name": "Python 3",
   "language": "python",
   "name": "python3"
  },
  "language_info": {
   "codemirror_mode": {
    "name": "ipython",
    "version": 3
   },
   "file_extension": ".py",
   "mimetype": "text/x-python",
   "name": "python",
   "nbconvert_exporter": "python",
   "pygments_lexer": "ipython3",
   "version": "3.8.3"
  }
 },
 "nbformat": 4,
 "nbformat_minor": 4
}
