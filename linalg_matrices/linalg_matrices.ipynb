{
 "cells": [
  {
   "cell_type": "code",
   "execution_count": 1,
   "metadata": {},
   "outputs": [],
   "source": [
    "import numpy as np"
   ]
  },
  {
   "cell_type": "markdown",
   "metadata": {},
   "source": [
    "\n",
    "---\n",
    "# VIDEO: A zoo of matrices\n",
    "---\n"
   ]
  },
  {
   "cell_type": "code",
   "execution_count": 2,
   "metadata": {},
   "outputs": [
    {
     "name": "stdout",
     "output_type": "stream",
     "text": [
      "[[ 1.73282833 -0.46082031  0.34337215  0.61580177  0.43859003]\n",
      " [ 0.39427857  1.99475695 -0.68330616 -0.08758272 -0.15145664]\n",
      " [-0.53043398  1.12329068 -1.3201411  -1.8256405  -0.71628705]\n",
      " [-0.66066734  0.11824467  0.2656225  -1.12108114  0.70406661]\n",
      " [ 0.0950791  -0.45388637 -1.20209175 -0.0680317   1.35763819]]\n",
      " \n",
      "[[-1.66147079  0.0071774 ]\n",
      " [-0.87465729 -0.24151273]\n",
      " [ 0.0727194   1.52294152]\n",
      " [-0.52265492 -0.56609178]\n",
      " [ 0.21863084 -0.63787691]]\n",
      "[[1. 0. 0.]\n",
      " [0. 1. 0.]\n",
      " [0. 0. 1.]]\n",
      " \n",
      "[[0. 0. 0. 0.]\n",
      " [0. 0. 0. 0.]\n",
      " [0. 0. 0. 0.]\n",
      " [0. 0. 0. 0.]]\n",
      " \n",
      "[[1 0 0 0 0]\n",
      " [0 2 0 0 0]\n",
      " [0 0 3 0 0]\n",
      " [0 0 0 5 0]\n",
      " [0 0 0 0 2]]\n",
      " \n",
      "[[-0.71155254  0.          0.          0.          0.        ]\n",
      " [ 2.23360922  1.11908107  0.          0.          0.        ]\n",
      " [ 1.17289168  0.37098214  0.98247289  0.          0.        ]\n",
      " [-0.03312223  1.28476393 -0.1066352  -0.26708453  0.        ]\n",
      " [-0.57671879 -1.61823875  0.22214848 -0.50327768 -2.70070887]]\n",
      " \n"
     ]
    },
    {
     "ename": "ValueError",
     "evalue": "all the input array dimensions for the concatenation axis must match exactly, but along dimension 0, the array at index 0 has size 3 and the array at index 1 has size 4",
     "output_type": "error",
     "traceback": [
      "\u001b[1;31m---------------------------------------------------------------------------\u001b[0m",
      "\u001b[1;31mValueError\u001b[0m                                Traceback (most recent call last)",
      "\u001b[1;32m<ipython-input-2-3c731110f2ca>\u001b[0m in \u001b[0;36m<module>\u001b[1;34m\u001b[0m\n\u001b[0;32m     26\u001b[0m \u001b[0mA\u001b[0m \u001b[1;33m=\u001b[0m \u001b[0mnp\u001b[0m\u001b[1;33m.\u001b[0m\u001b[0mrandom\u001b[0m\u001b[1;33m.\u001b[0m\u001b[0mrandn\u001b[0m\u001b[1;33m(\u001b[0m\u001b[1;36m3\u001b[0m\u001b[1;33m,\u001b[0m\u001b[1;36m2\u001b[0m\u001b[1;33m)\u001b[0m\u001b[1;33m\u001b[0m\u001b[1;33m\u001b[0m\u001b[0m\n\u001b[0;32m     27\u001b[0m \u001b[0mB\u001b[0m \u001b[1;33m=\u001b[0m \u001b[0mnp\u001b[0m\u001b[1;33m.\u001b[0m\u001b[0mrandom\u001b[0m\u001b[1;33m.\u001b[0m\u001b[0mrandn\u001b[0m\u001b[1;33m(\u001b[0m\u001b[1;36m4\u001b[0m\u001b[1;33m,\u001b[0m\u001b[1;36m4\u001b[0m\u001b[1;33m)\u001b[0m\u001b[1;33m\u001b[0m\u001b[1;33m\u001b[0m\u001b[0m\n\u001b[1;32m---> 28\u001b[1;33m \u001b[0mC\u001b[0m \u001b[1;33m=\u001b[0m \u001b[0mnp\u001b[0m\u001b[1;33m.\u001b[0m\u001b[0mconcatenate\u001b[0m\u001b[1;33m(\u001b[0m\u001b[1;33m(\u001b[0m\u001b[0mA\u001b[0m\u001b[1;33m,\u001b[0m\u001b[0mB\u001b[0m\u001b[1;33m)\u001b[0m\u001b[1;33m,\u001b[0m\u001b[0maxis\u001b[0m\u001b[1;33m=\u001b[0m\u001b[1;36m1\u001b[0m\u001b[1;33m)\u001b[0m\u001b[1;33m\u001b[0m\u001b[1;33m\u001b[0m\u001b[0m\n\u001b[0m\u001b[0;32m     29\u001b[0m \u001b[0mprint\u001b[0m\u001b[1;33m(\u001b[0m\u001b[0mC\u001b[0m\u001b[1;33m)\u001b[0m\u001b[1;33m\u001b[0m\u001b[1;33m\u001b[0m\u001b[0m\n",
      "\u001b[1;32m<__array_function__ internals>\u001b[0m in \u001b[0;36mconcatenate\u001b[1;34m(*args, **kwargs)\u001b[0m\n",
      "\u001b[1;31mValueError\u001b[0m: all the input array dimensions for the concatenation axis must match exactly, but along dimension 0, the array at index 0 has size 3 and the array at index 1 has size 4"
     ]
    }
   ],
   "source": [
    "\n",
    "# square vs. rectangular\n",
    "S = np.random.randn(5,5)\n",
    "R = np.random.randn(5,2) # 5 rows, 2 columns\n",
    "print(S), print(' ')\n",
    "print(R)\n",
    "\n",
    "# identity\n",
    "I = np.eye(3)\n",
    "print(I), print(' ')\n",
    "\n",
    "# zeros\n",
    "Z = np.zeros((4,4))\n",
    "print(Z), print(' ')\n",
    "\n",
    "# diagonal\n",
    "D = np.diag([ 1, 2, 3, 5, 2 ])\n",
    "print(D), print(' ')\n",
    "\n",
    "# create triangular matrix from full matrices\n",
    "S = np.random.randn(5,5)\n",
    "U = np.triu(S)\n",
    "L = np.tril(S)\n",
    "print(L), print(' ')\n",
    "\n",
    "# concatenate matrices (sizes must match!)\n",
    "A = np.random.randn(3,2)\n",
    "B = np.random.randn(4,4)\n",
    "C = np.concatenate((A,B),axis=1)\n",
    "print(C)"
   ]
  },
  {
   "cell_type": "markdown",
   "metadata": {},
   "source": [
    "\n",
    "---\n",
    "# VIDEO: Matrix addition and subtraction\n",
    "---\n"
   ]
  },
  {
   "cell_type": "code",
   "execution_count": null,
   "metadata": {},
   "outputs": [],
   "source": [
    "\n",
    "# create random matrices\n",
    "A = np.random.randn(5,4)\n",
    "B = np.random.randn(5,3)\n",
    "C = np.random.randn(5,4)\n",
    "\n",
    "# try to add them\n",
    "A+B\n",
    "A+C\n",
    "\n",
    "\n",
    "\n",
    "# \"shifting\" a matrix\n",
    "l = .03 # lambda\n",
    "N = 5  # size of square matrix\n",
    "D = np.random.randn(N,N) # can only shift a square matrix\n",
    "\n",
    "Ds = D + l*np.eye(N)\n",
    "print(D), print(' '), print(Ds)"
   ]
  },
  {
   "cell_type": "markdown",
   "metadata": {},
   "source": [
    "\n",
    "---\n",
    "# VIDEO: Matrix-scalar multiplication\n",
    "---\n"
   ]
  },
  {
   "cell_type": "code",
   "execution_count": null,
   "metadata": {},
   "outputs": [],
   "source": [
    "# define matrix and scalar\n",
    "M = np.array([ [1, 2], [2, 5] ])\n",
    "s = 2\n",
    "\n",
    "# pre- and post-multiplication is the same:\n",
    "print( M*s )\n",
    "print( s*M )\n"
   ]
  },
  {
   "cell_type": "markdown",
   "metadata": {},
   "source": [
    "# VIDEO: Transpose"
   ]
  },
  {
   "cell_type": "code",
   "execution_count": null,
   "metadata": {},
   "outputs": [],
   "source": [
    "M = np.array([ [1,2,3],\n",
    "               [2,3,4] ])\n",
    "\n",
    "print(M), print('')\n",
    "print(M.T), print('') # one transpose\n",
    "print(M.T.T), print('') # double-transpose returns the original matrix\n",
    "\n",
    "# can also use the function transpose\n",
    "print(np.transpose(M))"
   ]
  },
  {
   "cell_type": "code",
   "execution_count": null,
   "metadata": {},
   "outputs": [],
   "source": [
    "# warning! be careful when using complex matrices\n",
    "C = np.array([ [4+1j , 3 , 2-4j] ])\n",
    "\n",
    "print(C), print('')\n",
    "print(C.T), print('')\n",
    "print(np.transpose(C)), print('')\n",
    "\n",
    "# Note: In MATLAB, the transpose is the Hermitian transpose; \n",
    "#       in Python, you need to call the Hermitian explicitly by first converting from an array into a matrix\n",
    "print(np.matrix(C).H) # note the sign flips!\n"
   ]
  },
  {
   "cell_type": "markdown",
   "metadata": {},
   "source": [
    "\n",
    "---\n",
    "# VIDEO: Diagonal and trace\n",
    "---\n"
   ]
  },
  {
   "cell_type": "code",
   "execution_count": null,
   "metadata": {},
   "outputs": [],
   "source": [
    "\n",
    "M = np.round( 6*np.random.randn(4,4) )\n",
    "print(M), print(' ')\n",
    "# extract the diagonals\n",
    "d = np.diag(M)\n",
    "\n",
    "# notice the two ways of using the diag function\n",
    "d = np.diag(M) # input is matrix, output is vector\n",
    "D = np.diag(d) # input is vector, output is matrix\n",
    "print(d)\n",
    "print(D)\n",
    "\n",
    "# trace as sum of diagonal elements\n",
    "tr = np.trace(M)\n",
    "tr2 = sum( np.diag(M) )\n",
    "print(tr,tr2)"
   ]
  },
  {
   "cell_type": "markdown",
   "metadata": {},
   "source": [
    "\n",
    "---\n",
    "# VIDEO: Broadcasting matrix arithmetic\n",
    "---\n"
   ]
  },
  {
   "cell_type": "code",
   "execution_count": 3,
   "metadata": {},
   "outputs": [
    {
     "name": "stdout",
     "output_type": "stream",
     "text": [
      "[[ 1  4  7 10]\n",
      " [ 2  5  8 11]\n",
      " [ 3  6  9 12]]\n",
      " \n",
      "[10, 20, 30, 40]\n",
      " \n",
      "[100, 200, 300]\n",
      " \n"
     ]
    }
   ],
   "source": [
    "# create a matrix\n",
    "A = np.reshape(np.arange(1,13),(3,4),'F') # F=column, C=row\n",
    "\n",
    "# and two vectors\n",
    "r = [ 10, 20, 30, 40 ]\n",
    "c = [ 100, 200, 300 ]\n",
    "\n",
    "print(A), print(' ')\n",
    "print(r), print(' ')\n",
    "print(c), print(' ');"
   ]
  },
  {
   "cell_type": "code",
   "execution_count": 4,
   "metadata": {},
   "outputs": [
    {
     "ename": "ValueError",
     "evalue": "operands could not be broadcast together with shapes (3,4) (3,) ",
     "output_type": "error",
     "traceback": [
      "\u001b[1;31m---------------------------------------------------------------------------\u001b[0m",
      "\u001b[1;31mValueError\u001b[0m                                Traceback (most recent call last)",
      "\u001b[1;32m<ipython-input-4-1183729ddccb>\u001b[0m in \u001b[0;36m<module>\u001b[1;34m\u001b[0m\n\u001b[0;32m      3\u001b[0m \u001b[1;33m\u001b[0m\u001b[0m\n\u001b[0;32m      4\u001b[0m \u001b[1;31m# broadcast on the columns\u001b[0m\u001b[1;33m\u001b[0m\u001b[1;33m\u001b[0m\u001b[1;33m\u001b[0m\u001b[0m\n\u001b[1;32m----> 5\u001b[1;33m \u001b[0mprint\u001b[0m\u001b[1;33m(\u001b[0m\u001b[0mA\u001b[0m\u001b[1;33m+\u001b[0m\u001b[0mc\u001b[0m\u001b[1;33m)\u001b[0m\u001b[1;33m\u001b[0m\u001b[1;33m\u001b[0m\u001b[0m\n\u001b[0m\u001b[0;32m      6\u001b[0m \u001b[1;31m# print(A+np.reshape(c,(len(c),1))) # only works for explicit column vectors\u001b[0m\u001b[1;33m\u001b[0m\u001b[1;33m\u001b[0m\u001b[1;33m\u001b[0m\u001b[0m\n",
      "\u001b[1;31mValueError\u001b[0m: operands could not be broadcast together with shapes (3,4) (3,) "
     ]
    }
   ],
   "source": [
    "# broadcast on the rows\n",
    "# print(A+r), print(' ')\n",
    "\n",
    "# broadcast on the columns\n",
    "print(A+c)\n",
    "# print(A+np.reshape(c,(len(c),1))) # only works for explicit column vectors\n"
   ]
  },
  {
   "cell_type": "code",
   "execution_count": null,
   "metadata": {},
   "outputs": [],
   "source": []
  }
 ],
 "metadata": {
  "kernelspec": {
   "display_name": "Python 3",
   "language": "python",
   "name": "python3"
  },
  "language_info": {
   "codemirror_mode": {
    "name": "ipython",
    "version": 3
   },
   "file_extension": ".py",
   "mimetype": "text/x-python",
   "name": "python",
   "nbconvert_exporter": "python",
   "pygments_lexer": "ipython3",
   "version": "3.8.3"
  }
 },
 "nbformat": 4,
 "nbformat_minor": 2
}
